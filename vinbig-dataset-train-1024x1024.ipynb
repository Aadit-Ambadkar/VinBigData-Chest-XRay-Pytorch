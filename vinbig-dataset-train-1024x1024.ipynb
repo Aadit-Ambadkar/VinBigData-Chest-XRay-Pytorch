{
 "cells": [
  {
   "cell_type": "code",
   "execution_count": 1,
   "id": "elementary-rendering",
   "metadata": {
    "execution": {
     "iopub.execute_input": "2021-08-12T22:45:49.113703Z",
     "iopub.status.busy": "2021-08-12T22:45:49.113156Z",
     "iopub.status.idle": "2021-08-12T22:46:03.690457Z",
     "shell.execute_reply": "2021-08-12T22:46:03.689575Z"
    },
    "papermill": {
     "duration": 14.602855,
     "end_time": "2021-08-12T22:46:03.690645",
     "exception": false,
     "start_time": "2021-08-12T22:45:49.087790",
     "status": "completed"
    },
    "tags": []
   },
   "outputs": [
    {
     "name": "stdout",
     "output_type": "stream",
     "text": [
      "Collecting pycocotools\r\n",
      "  Downloading pycocotools-2.0.2.tar.gz (23 kB)\r\n",
      "Requirement already satisfied: setuptools>=18.0 in /opt/conda/lib/python3.7/site-packages (from pycocotools) (49.6.0.post20210108)\r\n",
      "Requirement already satisfied: cython>=0.27.3 in /opt/conda/lib/python3.7/site-packages (from pycocotools) (0.29.23)\r\n",
      "Requirement already satisfied: matplotlib>=2.1.0 in /opt/conda/lib/python3.7/site-packages (from pycocotools) (3.4.1)\r\n",
      "Requirement already satisfied: cycler>=0.10 in /opt/conda/lib/python3.7/site-packages (from matplotlib>=2.1.0->pycocotools) (0.10.0)\r\n",
      "Requirement already satisfied: python-dateutil>=2.7 in /opt/conda/lib/python3.7/site-packages (from matplotlib>=2.1.0->pycocotools) (2.8.1)\r\n",
      "Requirement already satisfied: kiwisolver>=1.0.1 in /opt/conda/lib/python3.7/site-packages (from matplotlib>=2.1.0->pycocotools) (1.3.1)\r\n",
      "Requirement already satisfied: pillow>=6.2.0 in /opt/conda/lib/python3.7/site-packages (from matplotlib>=2.1.0->pycocotools) (7.2.0)\r\n",
      "Requirement already satisfied: pyparsing>=2.2.1 in /opt/conda/lib/python3.7/site-packages (from matplotlib>=2.1.0->pycocotools) (2.4.7)\r\n",
      "Requirement already satisfied: numpy>=1.16 in /opt/conda/lib/python3.7/site-packages (from matplotlib>=2.1.0->pycocotools) (1.19.5)\r\n",
      "Requirement already satisfied: six in /opt/conda/lib/python3.7/site-packages (from cycler>=0.10->matplotlib>=2.1.0->pycocotools) (1.15.0)\r\n",
      "Building wheels for collected packages: pycocotools\r\n",
      "  Building wheel for pycocotools (setup.py) ... \u001b[?25l-\b \b\\\b \b|\b \b/\b \b-\b \b\\\b \b|\b \b/\b \bdone\r\n",
      "\u001b[?25h  Created wheel for pycocotools: filename=pycocotools-2.0.2-cp37-cp37m-linux_x86_64.whl size=272454 sha256=67c0703ed874dec1c3bef9cf42277dca9eea06b4a5be93a8358a4606b1555a33\r\n",
      "  Stored in directory: /root/.cache/pip/wheels/bc/cf/1b/e95c99c5f9d1648be3f500ca55e7ce55f24818b0f48336adaf\r\n",
      "Successfully built pycocotools\r\n",
      "Installing collected packages: pycocotools\r\n",
      "Successfully installed pycocotools-2.0.2\r\n"
     ]
    }
   ],
   "source": [
    "!pip install pycocotools"
   ]
  },
  {
   "cell_type": "code",
   "execution_count": 2,
   "id": "reported-proceeding",
   "metadata": {
    "execution": {
     "iopub.execute_input": "2021-08-12T22:46:03.733554Z",
     "iopub.status.busy": "2021-08-12T22:46:03.730439Z",
     "iopub.status.idle": "2021-08-12T22:46:04.397445Z",
     "shell.execute_reply": "2021-08-12T22:46:04.396508Z"
    },
    "papermill": {
     "duration": 0.689085,
     "end_time": "2021-08-12T22:46:04.397590",
     "exception": false,
     "start_time": "2021-08-12T22:46:03.708505",
     "status": "completed"
    },
    "tags": []
   },
   "outputs": [],
   "source": [
    "!cp ../input/d/aaditambadkar/torchdetection/* ."
   ]
  },
  {
   "cell_type": "code",
   "execution_count": 3,
   "id": "moving-arcade",
   "metadata": {
    "execution": {
     "iopub.execute_input": "2021-08-12T22:46:04.436993Z",
     "iopub.status.busy": "2021-08-12T22:46:04.436200Z",
     "iopub.status.idle": "2021-08-12T22:46:04.438986Z",
     "shell.execute_reply": "2021-08-12T22:46:04.438570Z"
    },
    "papermill": {
     "duration": 0.023948,
     "end_time": "2021-08-12T22:46:04.439113",
     "exception": false,
     "start_time": "2021-08-12T22:46:04.415165",
     "status": "completed"
    },
    "tags": []
   },
   "outputs": [],
   "source": [
    "# !kaggle competitions download -c vinbigdata-chest-xray-abnormalities-detection"
   ]
  },
  {
   "cell_type": "code",
   "execution_count": 4,
   "id": "uniform-sacrifice",
   "metadata": {
    "_cell_guid": "b1076dfc-b9ad-4769-8c92-a6c4dae69d19",
    "_kg_hide-input": true,
    "_kg_hide-output": true,
    "_uuid": "8f2839f25d086af736a60e9eeb907d3b93b6e0e5",
    "execution": {
     "iopub.execute_input": "2021-08-12T22:46:04.480429Z",
     "iopub.status.busy": "2021-08-12T22:46:04.479753Z",
     "iopub.status.idle": "2021-08-12T22:46:05.604984Z",
     "shell.execute_reply": "2021-08-12T22:46:05.604530Z"
    },
    "papermill": {
     "duration": 1.148473,
     "end_time": "2021-08-12T22:46:05.605146",
     "exception": false,
     "start_time": "2021-08-12T22:46:04.456673",
     "status": "completed"
    },
    "tags": []
   },
   "outputs": [],
   "source": [
    "import numpy as np # linear algebra\n",
    "import pandas as pd # data processing, CSV file I/O (e.g. pd.read_csv)\n",
    "import math\n",
    "\n",
    "import os\n",
    "import sys\n",
    "\n",
    "#my imports\n",
    "from PIL import Image, ImageDraw\n",
    "import pickle\n",
    "\n",
    "import matplotlib as plt\n",
    "import matplotlib.patches as patches\n",
    "import pandas as pd\n",
    "import numpy as np\n",
    "\n",
    "import torch\n",
    "from torchvision.models.detection.faster_rcnn import FastRCNNPredictor\n",
    "# import transforms as T\n",
    "from engine import train_one_epoch, evaluate\n",
    "import utils\n",
    "import torchvision\n",
    "import torchvision.transforms as T2\n",
    "\n",
    "from math import floor\n",
    "import datetime\n",
    "\n",
    "import warnings\n",
    "warnings.filterwarnings(\"ignore\")"
   ]
  },
  {
   "cell_type": "code",
   "execution_count": 5,
   "id": "related-trouble",
   "metadata": {
    "execution": {
     "iopub.execute_input": "2021-08-12T22:46:05.655623Z",
     "iopub.status.busy": "2021-08-12T22:46:05.655083Z",
     "iopub.status.idle": "2021-08-12T22:46:05.852402Z",
     "shell.execute_reply": "2021-08-12T22:46:05.851486Z"
    },
    "papermill": {
     "duration": 0.229657,
     "end_time": "2021-08-12T22:46:05.852544",
     "exception": false,
     "start_time": "2021-08-12T22:46:05.622887",
     "status": "completed"
    },
    "tags": []
   },
   "outputs": [],
   "source": [
    "csv = pd.read_csv(\"../input/vinbigdata-1024-image-dataset/vinbigdata/train.csv\")"
   ]
  },
  {
   "cell_type": "code",
   "execution_count": 6,
   "id": "induced-width",
   "metadata": {
    "execution": {
     "iopub.execute_input": "2021-08-12T22:46:05.907766Z",
     "iopub.status.busy": "2021-08-12T22:46:05.906902Z",
     "iopub.status.idle": "2021-08-12T22:46:05.917734Z",
     "shell.execute_reply": "2021-08-12T22:46:05.918147Z"
    },
    "papermill": {
     "duration": 0.047752,
     "end_time": "2021-08-12T22:46:05.918294",
     "exception": false,
     "start_time": "2021-08-12T22:46:05.870542",
     "status": "completed"
    },
    "tags": []
   },
   "outputs": [
    {
     "data": {
      "text/html": [
       "<div>\n",
       "<style scoped>\n",
       "    .dataframe tbody tr th:only-of-type {\n",
       "        vertical-align: middle;\n",
       "    }\n",
       "\n",
       "    .dataframe tbody tr th {\n",
       "        vertical-align: top;\n",
       "    }\n",
       "\n",
       "    .dataframe thead th {\n",
       "        text-align: right;\n",
       "    }\n",
       "</style>\n",
       "<table border=\"1\" class=\"dataframe\">\n",
       "  <thead>\n",
       "    <tr style=\"text-align: right;\">\n",
       "      <th></th>\n",
       "      <th>image_id</th>\n",
       "      <th>class_name</th>\n",
       "      <th>class_id</th>\n",
       "      <th>rad_id</th>\n",
       "      <th>x_min</th>\n",
       "      <th>y_min</th>\n",
       "      <th>x_max</th>\n",
       "      <th>y_max</th>\n",
       "      <th>width</th>\n",
       "      <th>height</th>\n",
       "    </tr>\n",
       "  </thead>\n",
       "  <tbody>\n",
       "    <tr>\n",
       "      <th>0</th>\n",
       "      <td>50a418190bc3fb1ef1633bf9678929b3</td>\n",
       "      <td>No finding</td>\n",
       "      <td>14</td>\n",
       "      <td>R11</td>\n",
       "      <td>NaN</td>\n",
       "      <td>NaN</td>\n",
       "      <td>NaN</td>\n",
       "      <td>NaN</td>\n",
       "      <td>2332</td>\n",
       "      <td>2580</td>\n",
       "    </tr>\n",
       "    <tr>\n",
       "      <th>1</th>\n",
       "      <td>21a10246a5ec7af151081d0cd6d65dc9</td>\n",
       "      <td>No finding</td>\n",
       "      <td>14</td>\n",
       "      <td>R7</td>\n",
       "      <td>NaN</td>\n",
       "      <td>NaN</td>\n",
       "      <td>NaN</td>\n",
       "      <td>NaN</td>\n",
       "      <td>2954</td>\n",
       "      <td>3159</td>\n",
       "    </tr>\n",
       "    <tr>\n",
       "      <th>2</th>\n",
       "      <td>9a5094b2563a1ef3ff50dc5c7ff71345</td>\n",
       "      <td>Cardiomegaly</td>\n",
       "      <td>3</td>\n",
       "      <td>R10</td>\n",
       "      <td>691.0</td>\n",
       "      <td>1375.0</td>\n",
       "      <td>1653.0</td>\n",
       "      <td>1831.0</td>\n",
       "      <td>2080</td>\n",
       "      <td>2336</td>\n",
       "    </tr>\n",
       "    <tr>\n",
       "      <th>3</th>\n",
       "      <td>051132a778e61a86eb147c7c6f564dfe</td>\n",
       "      <td>Aortic enlargement</td>\n",
       "      <td>0</td>\n",
       "      <td>R10</td>\n",
       "      <td>1264.0</td>\n",
       "      <td>743.0</td>\n",
       "      <td>1611.0</td>\n",
       "      <td>1019.0</td>\n",
       "      <td>2304</td>\n",
       "      <td>2880</td>\n",
       "    </tr>\n",
       "    <tr>\n",
       "      <th>4</th>\n",
       "      <td>063319de25ce7edb9b1c6b8881290140</td>\n",
       "      <td>No finding</td>\n",
       "      <td>14</td>\n",
       "      <td>R10</td>\n",
       "      <td>NaN</td>\n",
       "      <td>NaN</td>\n",
       "      <td>NaN</td>\n",
       "      <td>NaN</td>\n",
       "      <td>2540</td>\n",
       "      <td>3072</td>\n",
       "    </tr>\n",
       "  </tbody>\n",
       "</table>\n",
       "</div>"
      ],
      "text/plain": [
       "                           image_id          class_name  class_id rad_id  \\\n",
       "0  50a418190bc3fb1ef1633bf9678929b3          No finding        14    R11   \n",
       "1  21a10246a5ec7af151081d0cd6d65dc9          No finding        14     R7   \n",
       "2  9a5094b2563a1ef3ff50dc5c7ff71345        Cardiomegaly         3    R10   \n",
       "3  051132a778e61a86eb147c7c6f564dfe  Aortic enlargement         0    R10   \n",
       "4  063319de25ce7edb9b1c6b8881290140          No finding        14    R10   \n",
       "\n",
       "    x_min   y_min   x_max   y_max  width  height  \n",
       "0     NaN     NaN     NaN     NaN   2332    2580  \n",
       "1     NaN     NaN     NaN     NaN   2954    3159  \n",
       "2   691.0  1375.0  1653.0  1831.0   2080    2336  \n",
       "3  1264.0   743.0  1611.0  1019.0   2304    2880  \n",
       "4     NaN     NaN     NaN     NaN   2540    3072  "
      ]
     },
     "execution_count": 6,
     "metadata": {},
     "output_type": "execute_result"
    }
   ],
   "source": [
    "csv.head()"
   ]
  },
  {
   "cell_type": "code",
   "execution_count": 7,
   "id": "expected-terry",
   "metadata": {
    "execution": {
     "iopub.execute_input": "2021-08-12T22:46:05.959794Z",
     "iopub.status.busy": "2021-08-12T22:46:05.959265Z",
     "iopub.status.idle": "2021-08-12T22:46:06.274203Z",
     "shell.execute_reply": "2021-08-12T22:46:06.273683Z"
    },
    "papermill": {
     "duration": 0.337621,
     "end_time": "2021-08-12T22:46:06.274363",
     "exception": false,
     "start_time": "2021-08-12T22:46:05.936742",
     "status": "completed"
    },
    "tags": []
   },
   "outputs": [
    {
     "data": {
      "text/plain": [
       "<matplotlib.image.AxesImage at 0x7f44a827ead0>"
      ]
     },
     "execution_count": 7,
     "metadata": {},
     "output_type": "execute_result"
    },
    {
     "data": {
      "image/png": "[encoded data removed]",
      "text/plain": [
       "<Figure size 432x288 with 1 Axes>"
      ]
     },
     "metadata": {
      "needs_background": "light"
     },
     "output_type": "display_data"
    }
   ],
   "source": [
    "# specify your image path\n",
    "image_path = '../input/vinbigdata-1024-image-dataset/vinbigdata/train/9a5094b2563a1ef3ff50dc5c7ff71345.png'\n",
    "img = Image.open(image_path)\n",
    "draw = ImageDraw.Draw(img)\n",
    "draw.rectangle([691.0*1024/2080, 1375.0*1024/2336, 1653.0*1024/2080, 1831.0*1024/2336], outline=\"red\", width=10)\n",
    "plt.pyplot.imshow(img,cmap='bone')\n",
    "# x = np.asarray(img)\n",
    "# x/np.max(x)"
   ]
  },
  {
   "cell_type": "code",
   "execution_count": 8,
   "id": "biblical-burning",
   "metadata": {
    "execution": {
     "iopub.execute_input": "2021-08-12T22:46:06.323259Z",
     "iopub.status.busy": "2021-08-12T22:46:06.322460Z",
     "iopub.status.idle": "2021-08-12T22:46:06.325341Z",
     "shell.execute_reply": "2021-08-12T22:46:06.324892Z"
    },
    "papermill": {
     "duration": 0.02877,
     "end_time": "2021-08-12T22:46:06.325458",
     "exception": false,
     "start_time": "2021-08-12T22:46:06.296688",
     "status": "completed"
    },
    "tags": []
   },
   "outputs": [],
   "source": [
    "def custom_normalize(img, mean, std, max_pixel_value=255.0):\n",
    "    mean = np.array(mean, dtype=np.float32)\n",
    "    mean *= max_pixel_value\n",
    "\n",
    "    std = np.array(std, dtype=np.float32)\n",
    "    std *= max_pixel_value\n",
    "\n",
    "    denominator = np.reciprocal(std, dtype=np.float32)\n",
    "\n",
    "    img = img.astype(np.float32)\n",
    "    img -= mean\n",
    "    img *= denominator\n",
    "    return img"
   ]
  },
  {
   "cell_type": "code",
   "execution_count": 9,
   "id": "outer-stomach",
   "metadata": {
    "execution": {
     "iopub.execute_input": "2021-08-12T22:46:06.382402Z",
     "iopub.status.busy": "2021-08-12T22:46:06.381580Z",
     "iopub.status.idle": "2021-08-12T22:46:06.384041Z",
     "shell.execute_reply": "2021-08-12T22:46:06.384428Z"
    },
    "papermill": {
     "duration": 0.038553,
     "end_time": "2021-08-12T22:46:06.384574",
     "exception": false,
     "start_time": "2021-08-12T22:46:06.346021",
     "status": "completed"
    },
    "tags": []
   },
   "outputs": [],
   "source": [
    "class ChestXRayDataset(object):\n",
    "    def __init__ (self, path, tfms, csv, weights=None):\n",
    "        #defaults\n",
    "        self.path=path\n",
    "        self.tfms=tfms\n",
    "        self.csv = csv\n",
    "        self.weights = weights\n",
    "        #images\n",
    "        self.imgs = [x+\".png\" for x in csv['image_id'].tolist()]\n",
    "    def __getitem__ (self, idx):\n",
    "        img_path = os.path.join(self.path, 'train', self.imgs[idx])\n",
    "        img = Image.open(img_path)\n",
    "        # img = np.asarray(img)\n",
    "        # img/np.max(img)\n",
    "        \n",
    "        boxes = []\n",
    "        labs = []\n",
    "        ic = []\n",
    "        dk = self.csv.loc[self.csv['image_id']==self.imgs[idx][:-4]]\n",
    "        area = []\n",
    "        \n",
    "        for idx, row in dk.iterrows():\n",
    "            if (int(row['class_id'])!=14): \n",
    "                labs.append(int(row['class_id'])+1)\n",
    "                ic.append(0)\n",
    "                xmin = float(row['x_min'])\n",
    "                xmax = float(row['x_max'])\n",
    "                ymin = float(row['y_min'])\n",
    "                ymax = float(row['y_max'])\n",
    "\n",
    "                xmin*=1024\n",
    "                xmin/=row['width']\n",
    "                xmax*=1024\n",
    "                xmax/=row['width']\n",
    "                ymin*=1024\n",
    "                ymin/=row['height']\n",
    "                ymax*=1024\n",
    "                ymax/=row['height']\n",
    "                # if (img.shape[0]>img.shape[1]):\n",
    "                #     rat = 800/img.shape[0]\n",
    "                #     xmin = rat*xmin\n",
    "                #     xmax = rat*xmax\n",
    "                #     ymin = rat*ymin\n",
    "                #     ymax = rat*ymax\n",
    "                # else:\n",
    "                #     rat = 800/img.shape[1]\n",
    "                #     xmin = rat*xmin\n",
    "                #     xmax = rat*xmax\n",
    "                #     ymin = rat*ymin\n",
    "                #     ymax = rat*ymax\n",
    "                # xmin = floor(xmin)\n",
    "                # ymin = floor(ymin)\n",
    "                # xmax = floor(xmax)\n",
    "                # ymax = floor(ymax)\n",
    "                boxes.append([xmin, ymin, xmax, ymax])\n",
    "                area.append((xmax-xmin)*(ymax-ymin))\n",
    "                \n",
    "        if (len(boxes)==0):\n",
    "            boxes = [[0, 0, 1, 1]]\n",
    "            boxes = torch.as_tensor(boxes, dtype=torch.float32)\n",
    "            labels = torch.zeros((1,), dtype=torch.int64)\n",
    "            area = torch.ones((1,), dtype=torch.float32)\n",
    "            iscrowd = torch.as_tensor([0],dtype=torch.int64)\n",
    "        else:\n",
    "            boxes = torch.as_tensor(boxes, dtype=torch.float32)\n",
    "            labels = torch.as_tensor(labs, dtype=torch.int64)\n",
    "            area = torch.as_tensor(area, dtype=torch.float32)\n",
    "            iscrowd = torch.as_tensor(ic, dtype=torch.int64)\n",
    "            \n",
    "        image_id = torch.tensor([idx])\n",
    "        target = {}\n",
    "        target[\"boxes\"] = boxes\n",
    "        target[\"labels\"] = labels\n",
    "        target[\"image_id\"] = image_id\n",
    "        target[\"area\"] = area\n",
    "        target[\"iscrowd\"] = iscrowd\n",
    "        \n",
    "        if self.tfms is not None:\n",
    "#             img = custom_normalize(img, (0,0,0), (1,1,1))\n",
    "            # img = Image.fromarray(img)\n",
    "            img = self.tfms(img)\n",
    "        return img, target\n",
    "    def __len__(self):\n",
    "        return len(self.imgs)"
   ]
  },
  {
   "cell_type": "code",
   "execution_count": 10,
   "id": "atlantic-greenhouse",
   "metadata": {
    "execution": {
     "iopub.execute_input": "2021-08-12T22:46:06.431033Z",
     "iopub.status.busy": "2021-08-12T22:46:06.430247Z",
     "iopub.status.idle": "2021-08-12T22:46:06.432516Z",
     "shell.execute_reply": "2021-08-12T22:46:06.432874Z"
    },
    "papermill": {
     "duration": 0.027516,
     "end_time": "2021-08-12T22:46:06.433010",
     "exception": false,
     "start_time": "2021-08-12T22:46:06.405494",
     "status": "completed"
    },
    "tags": []
   },
   "outputs": [],
   "source": [
    "def get_transform():\n",
    "    transform = []\n",
    "    transform.append(T2.ToTensor())\n",
    "#     transform.append(torchvision.transforms.Normalize(mean=(0, 0, 0), std=(1, 1, 1)))\n",
    "    return T2.Compose(transform)"
   ]
  },
  {
   "cell_type": "code",
   "execution_count": 11,
   "id": "dirty-business",
   "metadata": {
    "execution": {
     "iopub.execute_input": "2021-08-12T22:46:06.478930Z",
     "iopub.status.busy": "2021-08-12T22:46:06.478208Z",
     "iopub.status.idle": "2021-08-12T22:46:06.480547Z",
     "shell.execute_reply": "2021-08-12T22:46:06.480981Z"
    },
    "papermill": {
     "duration": 0.027229,
     "end_time": "2021-08-12T22:46:06.481179",
     "exception": false,
     "start_time": "2021-08-12T22:46:06.453950",
     "status": "completed"
    },
    "tags": []
   },
   "outputs": [],
   "source": [
    "# names = csv['image_id'].unique()\n",
    "# np.random.shuffle(names)\n",
    "# leg = names.shape[0]\n",
    "# # names = names[:leg//50]\n",
    "# # leg = names.shape[0]\n",
    "# leg\n",
    "\n",
    "# na_train = names[:-int(math.floor(leg*0.25))]\n",
    "# na_test = names[-int(math.floor(leg*0.25)):]\n",
    "# na_train.shape[0]+na_test.shape[0]\n",
    "\n",
    "# ds_train = csv.loc[csv['image_id'].isin(na_train)]\n",
    "# ds_test = csv.loc[csv['image_id'].isin(na_test)]"
   ]
  },
  {
   "cell_type": "code",
   "execution_count": 12,
   "id": "instrumental-anderson",
   "metadata": {
    "execution": {
     "iopub.execute_input": "2021-08-12T22:46:06.527375Z",
     "iopub.status.busy": "2021-08-12T22:46:06.526591Z",
     "iopub.status.idle": "2021-08-12T22:46:06.529550Z",
     "shell.execute_reply": "2021-08-12T22:46:06.529064Z"
    },
    "papermill": {
     "duration": 0.027281,
     "end_time": "2021-08-12T22:46:06.529674",
     "exception": false,
     "start_time": "2021-08-12T22:46:06.502393",
     "status": "completed"
    },
    "tags": []
   },
   "outputs": [],
   "source": [
    "# for i in range(15):\n",
    "#     print (f\"Number of instances for class_id of {i} before balancing: {len(ds_train.loc[ds_train['class_id']==i])}\")\n",
    "#     dsci = ds_train.loc[ds_train['class_id']==i]\n",
    "#     while len(ds_train.loc[ds_train['class_id']==i]) < 500:\n",
    "#         ds_train = pd.concat([ds_train, dsci])\n",
    "#     print (f\"Number of instances for class_id of {i} after balancing: {len(ds_train.loc[ds_train['class_id']==i])}\")\n",
    "#     print ()"
   ]
  },
  {
   "cell_type": "code",
   "execution_count": 13,
   "id": "cathedral-geneva",
   "metadata": {
    "execution": {
     "iopub.execute_input": "2021-08-12T22:46:06.575981Z",
     "iopub.status.busy": "2021-08-12T22:46:06.575212Z",
     "iopub.status.idle": "2021-08-12T22:46:06.577868Z",
     "shell.execute_reply": "2021-08-12T22:46:06.577477Z"
    },
    "papermill": {
     "duration": 0.02718,
     "end_time": "2021-08-12T22:46:06.577979",
     "exception": false,
     "start_time": "2021-08-12T22:46:06.550799",
     "status": "completed"
    },
    "tags": []
   },
   "outputs": [],
   "source": [
    "# ds_train.sample(10)"
   ]
  },
  {
   "cell_type": "code",
   "execution_count": 14,
   "id": "outer-offer",
   "metadata": {
    "execution": {
     "iopub.execute_input": "2021-08-12T22:46:06.624058Z",
     "iopub.status.busy": "2021-08-12T22:46:06.623529Z",
     "iopub.status.idle": "2021-08-12T22:46:06.627595Z",
     "shell.execute_reply": "2021-08-12T22:46:06.627191Z"
    },
    "papermill": {
     "duration": 0.028459,
     "end_time": "2021-08-12T22:46:06.627707",
     "exception": false,
     "start_time": "2021-08-12T22:46:06.599248",
     "status": "completed"
    },
    "tags": []
   },
   "outputs": [],
   "source": [
    "# test_imgs = ds_test.image_id.unique()\n",
    "# test_imgs"
   ]
  },
  {
   "cell_type": "code",
   "execution_count": 15,
   "id": "experimental-consultation",
   "metadata": {
    "execution": {
     "iopub.execute_input": "2021-08-12T22:46:06.677157Z",
     "iopub.status.busy": "2021-08-12T22:46:06.676599Z",
     "iopub.status.idle": "2021-08-12T22:46:06.680556Z",
     "shell.execute_reply": "2021-08-12T22:46:06.680158Z"
    },
    "papermill": {
     "duration": 0.031696,
     "end_time": "2021-08-12T22:46:06.680678",
     "exception": false,
     "start_time": "2021-08-12T22:46:06.648982",
     "status": "completed"
    },
    "tags": []
   },
   "outputs": [],
   "source": [
    "def intersect(boxa, boxb):\n",
    "    minx = max(boxa[0], boxb[0])\n",
    "    miny = max(boxa[1], boxb[1])\n",
    "    maxx = min(boxa[2], boxb[2])\n",
    "    maxy = min(boxa[3], boxb[3])\n",
    "    return [minx, miny, maxx, maxy]\n",
    "def box_area(box):\n",
    "    return (box[2]-box[0])*(box[3]-box[1])\n",
    "def iou(box_a, box_b):\n",
    "    box_i = intersect(box_a, box_b)\n",
    "    box_i_area = box_area(box_i)\n",
    "    box_a_area = box_area(box_a)\n",
    "    box_b_area = box_area(box_b)\n",
    "    u_area = box_a_area+box_b_area-box_i_area\n",
    "    return (box_i_area/u_area, box_i_area, u_area)"
   ]
  },
  {
   "cell_type": "code",
   "execution_count": 16,
   "id": "loose-lover",
   "metadata": {
    "execution": {
     "iopub.execute_input": "2021-08-12T22:46:06.728635Z",
     "iopub.status.busy": "2021-08-12T22:46:06.727315Z",
     "iopub.status.idle": "2021-08-12T22:46:06.730127Z",
     "shell.execute_reply": "2021-08-12T22:46:06.729703Z"
    },
    "papermill": {
     "duration": 0.028219,
     "end_time": "2021-08-12T22:46:06.730255",
     "exception": false,
     "start_time": "2021-08-12T22:46:06.702036",
     "status": "completed"
    },
    "tags": []
   },
   "outputs": [],
   "source": [
    "# for i in test_imgs:\n",
    "#     df = ds_test.loc[ds_test['image_id']==i]\n",
    "#     i = 0\n",
    "#     while (i<len(df)):\n",
    "#         j = i+1\n",
    "#         while (j<len(df)):\n",
    "#             if iou([df.iloc[i]['x_min'], df.iloc[i]['y_min'], df.iloc[i]['x_max'], df.iloc[i]['y_max']], \n",
    "#                     [df.iloc[j]['x_min'], df.iloc[j]['y_min'], df.iloc[j]['x_max'], df.iloc[j]['y_max']])[0]>=0.4:\n",
    "#                 if (df.iloc[i]['class_id']==df.iloc[j]['class_id']): \n",
    "# #                     print(df.index[i])\n",
    "# #                     print(df.index[j])\n",
    "#                     try:\n",
    "#                         ds_test.drop(df.index[j], inplace=True)\n",
    "#                     except:\n",
    "#                         pass\n",
    "#             j+=1\n",
    "#         i+=1\n",
    "# # df.iloc[0]"
   ]
  },
  {
   "cell_type": "code",
   "execution_count": 17,
   "id": "united-polyester",
   "metadata": {
    "execution": {
     "iopub.execute_input": "2021-08-12T22:46:06.777547Z",
     "iopub.status.busy": "2021-08-12T22:46:06.776941Z",
     "iopub.status.idle": "2021-08-12T22:46:06.880075Z",
     "shell.execute_reply": "2021-08-12T22:46:06.879578Z"
    },
    "papermill": {
     "duration": 0.128451,
     "end_time": "2021-08-12T22:46:06.880284",
     "exception": false,
     "start_time": "2021-08-12T22:46:06.751833",
     "status": "completed"
    },
    "tags": []
   },
   "outputs": [],
   "source": [
    "file_train = open(f\"../input/private-model-save-dataset/train-set-v3 (1).pkl\", \"rb\")\n",
    "file_test = open(f\"../input/private-model-save-dataset/test-set-v3 (1).pkl\", \"rb\")\n",
    "ds_train = pickle.load(file_train)\n",
    "ds_test = pickle.load(file_test)"
   ]
  },
  {
   "cell_type": "code",
   "execution_count": 18,
   "id": "postal-shanghai",
   "metadata": {
    "execution": {
     "iopub.execute_input": "2021-08-12T22:46:06.938781Z",
     "iopub.status.busy": "2021-08-12T22:46:06.938171Z",
     "iopub.status.idle": "2021-08-12T22:46:06.941569Z",
     "shell.execute_reply": "2021-08-12T22:46:06.941967Z"
    },
    "papermill": {
     "duration": 0.039817,
     "end_time": "2021-08-12T22:46:06.942118",
     "exception": false,
     "start_time": "2021-08-12T22:46:06.902301",
     "status": "completed"
    },
    "tags": []
   },
   "outputs": [
    {
     "data": {
      "text/html": [
       "<div>\n",
       "<style scoped>\n",
       "    .dataframe tbody tr th:only-of-type {\n",
       "        vertical-align: middle;\n",
       "    }\n",
       "\n",
       "    .dataframe tbody tr th {\n",
       "        vertical-align: top;\n",
       "    }\n",
       "\n",
       "    .dataframe thead th {\n",
       "        text-align: right;\n",
       "    }\n",
       "</style>\n",
       "<table border=\"1\" class=\"dataframe\">\n",
       "  <thead>\n",
       "    <tr style=\"text-align: right;\">\n",
       "      <th></th>\n",
       "      <th>image_id</th>\n",
       "      <th>class_name</th>\n",
       "      <th>class_id</th>\n",
       "      <th>rad_id</th>\n",
       "      <th>x_min</th>\n",
       "      <th>y_min</th>\n",
       "      <th>x_max</th>\n",
       "      <th>y_max</th>\n",
       "      <th>width</th>\n",
       "      <th>height</th>\n",
       "    </tr>\n",
       "  </thead>\n",
       "  <tbody>\n",
       "    <tr>\n",
       "      <th>0</th>\n",
       "      <td>50a418190bc3fb1ef1633bf9678929b3</td>\n",
       "      <td>No finding</td>\n",
       "      <td>14</td>\n",
       "      <td>R11</td>\n",
       "      <td>NaN</td>\n",
       "      <td>NaN</td>\n",
       "      <td>NaN</td>\n",
       "      <td>NaN</td>\n",
       "      <td>2332</td>\n",
       "      <td>2580</td>\n",
       "    </tr>\n",
       "    <tr>\n",
       "      <th>2</th>\n",
       "      <td>9a5094b2563a1ef3ff50dc5c7ff71345</td>\n",
       "      <td>Cardiomegaly</td>\n",
       "      <td>3</td>\n",
       "      <td>R10</td>\n",
       "      <td>691.0</td>\n",
       "      <td>1375.0</td>\n",
       "      <td>1653.0</td>\n",
       "      <td>1831.0</td>\n",
       "      <td>2080</td>\n",
       "      <td>2336</td>\n",
       "    </tr>\n",
       "    <tr>\n",
       "      <th>4</th>\n",
       "      <td>063319de25ce7edb9b1c6b8881290140</td>\n",
       "      <td>No finding</td>\n",
       "      <td>14</td>\n",
       "      <td>R10</td>\n",
       "      <td>NaN</td>\n",
       "      <td>NaN</td>\n",
       "      <td>NaN</td>\n",
       "      <td>NaN</td>\n",
       "      <td>2540</td>\n",
       "      <td>3072</td>\n",
       "    </tr>\n",
       "    <tr>\n",
       "      <th>5</th>\n",
       "      <td>1c32170b4af4ce1a3030eb8167753b06</td>\n",
       "      <td>Pleural thickening</td>\n",
       "      <td>11</td>\n",
       "      <td>R9</td>\n",
       "      <td>627.0</td>\n",
       "      <td>357.0</td>\n",
       "      <td>947.0</td>\n",
       "      <td>433.0</td>\n",
       "      <td>2540</td>\n",
       "      <td>3072</td>\n",
       "    </tr>\n",
       "    <tr>\n",
       "      <th>6</th>\n",
       "      <td>0c7a38f293d5f5e4846aa4ca6db4daf1</td>\n",
       "      <td>ILD</td>\n",
       "      <td>5</td>\n",
       "      <td>R17</td>\n",
       "      <td>1347.0</td>\n",
       "      <td>245.0</td>\n",
       "      <td>2188.0</td>\n",
       "      <td>2169.0</td>\n",
       "      <td>2285</td>\n",
       "      <td>2555</td>\n",
       "    </tr>\n",
       "  </tbody>\n",
       "</table>\n",
       "</div>"
      ],
      "text/plain": [
       "                           image_id          class_name  class_id rad_id  \\\n",
       "0  50a418190bc3fb1ef1633bf9678929b3          No finding        14    R11   \n",
       "2  9a5094b2563a1ef3ff50dc5c7ff71345        Cardiomegaly         3    R10   \n",
       "4  063319de25ce7edb9b1c6b8881290140          No finding        14    R10   \n",
       "5  1c32170b4af4ce1a3030eb8167753b06  Pleural thickening        11     R9   \n",
       "6  0c7a38f293d5f5e4846aa4ca6db4daf1                 ILD         5    R17   \n",
       "\n",
       "    x_min   y_min   x_max   y_max  width  height  \n",
       "0     NaN     NaN     NaN     NaN   2332    2580  \n",
       "2   691.0  1375.0  1653.0  1831.0   2080    2336  \n",
       "4     NaN     NaN     NaN     NaN   2540    3072  \n",
       "5   627.0   357.0   947.0   433.0   2540    3072  \n",
       "6  1347.0   245.0  2188.0  2169.0   2285    2555  "
      ]
     },
     "execution_count": 18,
     "metadata": {},
     "output_type": "execute_result"
    }
   ],
   "source": [
    "ds_train.head()"
   ]
  },
  {
   "cell_type": "code",
   "execution_count": 19,
   "id": "victorian-giving",
   "metadata": {
    "execution": {
     "iopub.execute_input": "2021-08-12T22:46:06.996357Z",
     "iopub.status.busy": "2021-08-12T22:46:06.995712Z",
     "iopub.status.idle": "2021-08-12T22:46:06.999590Z",
     "shell.execute_reply": "2021-08-12T22:46:06.999131Z"
    },
    "papermill": {
     "duration": 0.034266,
     "end_time": "2021-08-12T22:46:06.999713",
     "exception": false,
     "start_time": "2021-08-12T22:46:06.965447",
     "status": "completed"
    },
    "tags": []
   },
   "outputs": [],
   "source": [
    "def train(model, optimizer, data_loader, device, epoch, print_freq=100):\n",
    "    model.train()\n",
    "    itr = 0\n",
    "    for img, target in data_loader:\n",
    "        img = list(image.to(device) for image in img)\n",
    "        target = [{k: v.to(device) for k, v in t.items()} for t in target]\n",
    "        loss_dict = model(img, target)\n",
    "        losses = sum (loss for loss in loss_dict.values())\n",
    "        loss_value = losses.item()\n",
    "        if (itr%print_freq==0):\n",
    "            print (f\"Epoch [{epoch}], itr [{itr}]\", end=\"\\t\")\n",
    "            print (f\"Loss: {loss_value}\", end=\"\\t\")\n",
    "            print (f\"Loss Dictionary: {loss_dict}\", end=\"\\t\")\n",
    "            print (datetime.datetime.now())\n",
    "        optimizer.zero_grad()\n",
    "        losses.backward()\n",
    "        optimizer.step()\n",
    "\n",
    "        if not math.isfinite(loss_value):\n",
    "            print(\"Loss is {}, stopping training\".format(loss_value))\n",
    "            print(loss_dict)\n",
    "            sys.exit(1)\n",
    "        itr+=1\n",
    "    "
   ]
  },
  {
   "cell_type": "code",
   "execution_count": 20,
   "id": "norman-encoding",
   "metadata": {
    "execution": {
     "iopub.execute_input": "2021-08-12T22:46:07.054945Z",
     "iopub.status.busy": "2021-08-12T22:46:07.053450Z",
     "iopub.status.idle": "2021-08-12T22:46:07.055775Z",
     "shell.execute_reply": "2021-08-12T22:46:07.056191Z"
    },
    "papermill": {
     "duration": 0.033889,
     "end_time": "2021-08-12T22:46:07.056327",
     "exception": false,
     "start_time": "2021-08-12T22:46:07.022438",
     "status": "completed"
    },
    "tags": []
   },
   "outputs": [],
   "source": [
    "def main () :\n",
    "    # load a model pre-trained pre-trained on COCO\n",
    "    model = torch.load(\"../input/private-model-save-dataset/model-save-6.pkl\")\n",
    "    \n",
    "    # replace the classifier with a new one, that has\n",
    "    # num_classes which is user-defined\n",
    "#     num_classes = 15  \n",
    "    # get number of input features for the classifier\n",
    "#     in_features = model.roi_heads.box_predictor.cls_score.in_features\n",
    "    # replace the pre-trained head with a new one\n",
    "#     model.roi_heads.box_predictor = FastRCNNPredictor(in_features, num_classes)\n",
    "    \n",
    "    \n",
    "    device = torch.device('cuda') if torch.cuda.is_available() else torch.device('cpu')\n",
    "    \n",
    "    dataset = ChestXRayDataset('../input/vinbigdata-1024-image-dataset/vinbigdata', get_transform(), ds_train)\n",
    "    data_loader = torch.utils.data.DataLoader(\n",
    "        dataset, batch_size=4, shuffle=True, num_workers=4,\n",
    "        collate_fn=utils.collate_fn)\n",
    "    \n",
    "    model.to(device)\n",
    "    \n",
    "    params = [p for p in model.parameters() if p.requires_grad]\n",
    "    optimizer = torch.optim.SGD(params, lr=0.005,\n",
    "                                momentum=0.9, weight_decay=0.0005)\n",
    "    lr_scheduler = torch.optim.lr_scheduler.StepLR(optimizer,\n",
    "                                                   step_size=3,\n",
    "                                                   gamma=0.1)\n",
    "    num_epochs = 3\n",
    "    for epoch in range(num_epochs):\n",
    "        # train for one epoch, printing every 1000 iterations\n",
    "        train(model, optimizer, data_loader, device, epoch, print_freq=500)\n",
    "        # update the learning rate\n",
    "        lr_scheduler.step()\n",
    "        torch.save(model, f\"./model-save-{epoch+1}.pkl\")\n",
    "        \n",
    "#         evaluate(model, data_loader_test, device=device)\n",
    "    "
   ]
  },
  {
   "cell_type": "code",
   "execution_count": 21,
   "id": "musical-avatar",
   "metadata": {
    "execution": {
     "iopub.execute_input": "2021-08-12T22:46:07.106343Z",
     "iopub.status.busy": "2021-08-12T22:46:07.105487Z",
     "iopub.status.idle": "2021-08-13T05:42:24.688598Z",
     "shell.execute_reply": "2021-08-13T05:42:24.687604Z",
     "shell.execute_reply.started": "2021-07-30T20:04:29.977048Z"
    },
    "papermill": {
     "duration": 24977.60973,
     "end_time": "2021-08-13T05:42:24.688768",
     "exception": false,
     "start_time": "2021-08-12T22:46:07.079038",
     "status": "completed"
    },
    "tags": []
   },
   "outputs": [
    {
     "name": "stdout",
     "output_type": "stream",
     "text": [
      "Epoch [0], itr [0]\tLoss: 0.32044708728790283\tLoss Dictionary: {'loss_classifier': tensor(0.0987, device='cuda:0', grad_fn=<NllLossBackward>), 'loss_box_reg': tensor(0.1972, device='cuda:0', grad_fn=<DivBackward0>), 'loss_objectness': tensor(0.0091, device='cuda:0', grad_fn=<BinaryCrossEntropyWithLogitsBackward>), 'loss_rpn_box_reg': tensor(0.0154, device='cuda:0', grad_fn=<DivBackward0>)}\t2021-08-12 22:46:17.203181\n",
      "Epoch [0], itr [500]\tLoss: 0.1872817724943161\tLoss Dictionary: {'loss_classifier': tensor(0.0821, device='cuda:0', grad_fn=<NllLossBackward>), 'loss_box_reg': tensor(0.0923, device='cuda:0', grad_fn=<DivBackward0>), 'loss_objectness': tensor(0.0047, device='cuda:0', grad_fn=<BinaryCrossEntropyWithLogitsBackward>), 'loss_rpn_box_reg': tensor(0.0081, device='cuda:0', grad_fn=<DivBackward0>)}\t2021-08-12 22:51:38.776861\n",
      "Epoch [0], itr [1000]\tLoss: 0.2741669714450836\tLoss Dictionary: {'loss_classifier': tensor(0.0794, device='cuda:0', grad_fn=<NllLossBackward>), 'loss_box_reg': tensor(0.1757, device='cuda:0', grad_fn=<DivBackward0>), 'loss_objectness': tensor(0.0014, device='cuda:0', grad_fn=<BinaryCrossEntropyWithLogitsBackward>), 'loss_rpn_box_reg': tensor(0.0177, device='cuda:0', grad_fn=<DivBackward0>)}\t2021-08-12 22:56:59.471953\n",
      "Epoch [0], itr [1500]\tLoss: 0.09505274146795273\tLoss Dictionary: {'loss_classifier': tensor(0.0287, device='cuda:0', grad_fn=<NllLossBackward>), 'loss_box_reg': tensor(0.0576, device='cuda:0', grad_fn=<DivBackward0>), 'loss_objectness': tensor(0.0019, device='cuda:0', grad_fn=<BinaryCrossEntropyWithLogitsBackward>), 'loss_rpn_box_reg': tensor(0.0069, device='cuda:0', grad_fn=<DivBackward0>)}\t2021-08-12 23:02:19.840981\n",
      "Epoch [0], itr [2000]\tLoss: 0.23784582316875458\tLoss Dictionary: {'loss_classifier': tensor(0.0770, device='cuda:0', grad_fn=<NllLossBackward>), 'loss_box_reg': tensor(0.1124, device='cuda:0', grad_fn=<DivBackward0>), 'loss_objectness': tensor(0.0016, device='cuda:0', grad_fn=<BinaryCrossEntropyWithLogitsBackward>), 'loss_rpn_box_reg': tensor(0.0469, device='cuda:0', grad_fn=<DivBackward0>)}\t2021-08-12 23:07:39.905804\n",
      "Epoch [0], itr [2500]\tLoss: 0.26190224289894104\tLoss Dictionary: {'loss_classifier': tensor(0.0835, device='cuda:0', grad_fn=<NllLossBackward>), 'loss_box_reg': tensor(0.1645, device='cuda:0', grad_fn=<DivBackward0>), 'loss_objectness': tensor(0.0007, device='cuda:0', grad_fn=<BinaryCrossEntropyWithLogitsBackward>), 'loss_rpn_box_reg': tensor(0.0133, device='cuda:0', grad_fn=<DivBackward0>)}\t2021-08-12 23:12:59.892247\n",
      "Epoch [0], itr [3000]\tLoss: 0.5076816082000732\tLoss Dictionary: {'loss_classifier': tensor(0.1209, device='cuda:0', grad_fn=<NllLossBackward>), 'loss_box_reg': tensor(0.2153, device='cuda:0', grad_fn=<DivBackward0>), 'loss_objectness': tensor(0.0129, device='cuda:0', grad_fn=<BinaryCrossEntropyWithLogitsBackward>), 'loss_rpn_box_reg': tensor(0.1585, device='cuda:0', grad_fn=<DivBackward0>)}\t2021-08-12 23:18:19.851790\n",
      "Epoch [0], itr [3500]\tLoss: 0.013143954798579216\tLoss Dictionary: {'loss_classifier': tensor(0.0107, device='cuda:0', grad_fn=<NllLossBackward>), 'loss_box_reg': tensor(0., device='cuda:0', grad_fn=<DivBackward0>), 'loss_objectness': tensor(0.0005, device='cuda:0', grad_fn=<BinaryCrossEntropyWithLogitsBackward>), 'loss_rpn_box_reg': tensor(0.0020, device='cuda:0', grad_fn=<DivBackward0>)}\t2021-08-12 23:23:40.013966\n",
      "Epoch [0], itr [4000]\tLoss: 0.1291036754846573\tLoss Dictionary: {'loss_classifier': tensor(0.0254, device='cuda:0', grad_fn=<NllLossBackward>), 'loss_box_reg': tensor(0.0919, device='cuda:0', grad_fn=<DivBackward0>), 'loss_objectness': tensor(0.0034, device='cuda:0', grad_fn=<BinaryCrossEntropyWithLogitsBackward>), 'loss_rpn_box_reg': tensor(0.0084, device='cuda:0', grad_fn=<DivBackward0>)}\t2021-08-12 23:28:59.946320\n",
      "Epoch [0], itr [4500]\tLoss: 0.1350879669189453\tLoss Dictionary: {'loss_classifier': tensor(0.0387, device='cuda:0', grad_fn=<NllLossBackward>), 'loss_box_reg': tensor(0.0883, device='cuda:0', grad_fn=<DivBackward0>), 'loss_objectness': tensor(0.0011, device='cuda:0', grad_fn=<BinaryCrossEntropyWithLogitsBackward>), 'loss_rpn_box_reg': tensor(0.0070, device='cuda:0', grad_fn=<DivBackward0>)}\t2021-08-12 23:34:19.844750\n",
      "Epoch [0], itr [5000]\tLoss: 0.14654874801635742\tLoss Dictionary: {'loss_classifier': tensor(0.0353, device='cuda:0', grad_fn=<NllLossBackward>), 'loss_box_reg': tensor(0.0885, device='cuda:0', grad_fn=<DivBackward0>), 'loss_objectness': tensor(0.0079, device='cuda:0', grad_fn=<BinaryCrossEntropyWithLogitsBackward>), 'loss_rpn_box_reg': tensor(0.0149, device='cuda:0', grad_fn=<DivBackward0>)}\t2021-08-12 23:39:40.338213\n",
      "Epoch [0], itr [5500]\tLoss: 0.07317626476287842\tLoss Dictionary: {'loss_classifier': tensor(0.0248, device='cuda:0', grad_fn=<NllLossBackward>), 'loss_box_reg': tensor(0.0439, device='cuda:0', grad_fn=<DivBackward0>), 'loss_objectness': tensor(0.0007, device='cuda:0', grad_fn=<BinaryCrossEntropyWithLogitsBackward>), 'loss_rpn_box_reg': tensor(0.0038, device='cuda:0', grad_fn=<DivBackward0>)}\t2021-08-12 23:45:00.902669\n",
      "Epoch [0], itr [6000]\tLoss: 0.26922139525413513\tLoss Dictionary: {'loss_classifier': tensor(0.0435, device='cuda:0', grad_fn=<NllLossBackward>), 'loss_box_reg': tensor(0.1207, device='cuda:0', grad_fn=<DivBackward0>), 'loss_objectness': tensor(0.0052, device='cuda:0', grad_fn=<BinaryCrossEntropyWithLogitsBackward>), 'loss_rpn_box_reg': tensor(0.0999, device='cuda:0', grad_fn=<DivBackward0>)}\t2021-08-12 23:50:20.874659\n",
      "Epoch [0], itr [6500]\tLoss: 0.23748353123664856\tLoss Dictionary: {'loss_classifier': tensor(0.0580, device='cuda:0', grad_fn=<NllLossBackward>), 'loss_box_reg': tensor(0.1508, device='cuda:0', grad_fn=<DivBackward0>), 'loss_objectness': tensor(0.0056, device='cuda:0', grad_fn=<BinaryCrossEntropyWithLogitsBackward>), 'loss_rpn_box_reg': tensor(0.0231, device='cuda:0', grad_fn=<DivBackward0>)}\t2021-08-12 23:55:41.112331\n",
      "Epoch [0], itr [7000]\tLoss: 0.04701535031199455\tLoss Dictionary: {'loss_classifier': tensor(0.0073, device='cuda:0', grad_fn=<NllLossBackward>), 'loss_box_reg': tensor(0.0290, device='cuda:0', grad_fn=<DivBackward0>), 'loss_objectness': tensor(0.0004, device='cuda:0', grad_fn=<BinaryCrossEntropyWithLogitsBackward>), 'loss_rpn_box_reg': tensor(0.0104, device='cuda:0', grad_fn=<DivBackward0>)}\t2021-08-13 00:01:01.100236\n",
      "Epoch [0], itr [7500]\tLoss: 0.11154338717460632\tLoss Dictionary: {'loss_classifier': tensor(0.0302, device='cuda:0', grad_fn=<NllLossBackward>), 'loss_box_reg': tensor(0.0734, device='cuda:0', grad_fn=<DivBackward0>), 'loss_objectness': tensor(0.0027, device='cuda:0', grad_fn=<BinaryCrossEntropyWithLogitsBackward>), 'loss_rpn_box_reg': tensor(0.0052, device='cuda:0', grad_fn=<DivBackward0>)}\t2021-08-13 00:06:21.090722\n",
      "Epoch [0], itr [8000]\tLoss: 0.1672114133834839\tLoss Dictionary: {'loss_classifier': tensor(0.0430, device='cuda:0', grad_fn=<NllLossBackward>), 'loss_box_reg': tensor(0.1160, device='cuda:0', grad_fn=<DivBackward0>), 'loss_objectness': tensor(0.0011, device='cuda:0', grad_fn=<BinaryCrossEntropyWithLogitsBackward>), 'loss_rpn_box_reg': tensor(0.0072, device='cuda:0', grad_fn=<DivBackward0>)}\t2021-08-13 00:11:41.167845\n",
      "Epoch [0], itr [8500]\tLoss: 0.04906037077307701\tLoss Dictionary: {'loss_classifier': tensor(0.0165, device='cuda:0', grad_fn=<NllLossBackward>), 'loss_box_reg': tensor(0.0294, device='cuda:0', grad_fn=<DivBackward0>), 'loss_objectness': tensor(0.0015, device='cuda:0', grad_fn=<BinaryCrossEntropyWithLogitsBackward>), 'loss_rpn_box_reg': tensor(0.0016, device='cuda:0', grad_fn=<DivBackward0>)}\t2021-08-13 00:17:01.369701\n",
      "Epoch [0], itr [9000]\tLoss: 0.0025720505509525537\tLoss Dictionary: {'loss_classifier': tensor(0.0010, device='cuda:0', grad_fn=<NllLossBackward>), 'loss_box_reg': tensor(0., device='cuda:0', grad_fn=<DivBackward0>), 'loss_objectness': tensor(0.0004, device='cuda:0', grad_fn=<BinaryCrossEntropyWithLogitsBackward>), 'loss_rpn_box_reg': tensor(0.0012, device='cuda:0', grad_fn=<DivBackward0>)}\t2021-08-13 00:22:21.468115\n",
      "Epoch [0], itr [9500]\tLoss: 0.1493171900510788\tLoss Dictionary: {'loss_classifier': tensor(0.0436, device='cuda:0', grad_fn=<NllLossBackward>), 'loss_box_reg': tensor(0.0912, device='cuda:0', grad_fn=<DivBackward0>), 'loss_objectness': tensor(0.0068, device='cuda:0', grad_fn=<BinaryCrossEntropyWithLogitsBackward>), 'loss_rpn_box_reg': tensor(0.0077, device='cuda:0', grad_fn=<DivBackward0>)}\t2021-08-13 00:27:41.303283\n",
      "Epoch [0], itr [10000]\tLoss: 0.32784152030944824\tLoss Dictionary: {'loss_classifier': tensor(0.0734, device='cuda:0', grad_fn=<NllLossBackward>), 'loss_box_reg': tensor(0.1561, device='cuda:0', grad_fn=<DivBackward0>), 'loss_objectness': tensor(0.0017, device='cuda:0', grad_fn=<BinaryCrossEntropyWithLogitsBackward>), 'loss_rpn_box_reg': tensor(0.0967, device='cuda:0', grad_fn=<DivBackward0>)}\t2021-08-13 00:33:01.152470\n",
      "Epoch [0], itr [10500]\tLoss: 0.29188865423202515\tLoss Dictionary: {'loss_classifier': tensor(0.1037, device='cuda:0', grad_fn=<NllLossBackward>), 'loss_box_reg': tensor(0.1758, device='cuda:0', grad_fn=<DivBackward0>), 'loss_objectness': tensor(0.0031, device='cuda:0', grad_fn=<BinaryCrossEntropyWithLogitsBackward>), 'loss_rpn_box_reg': tensor(0.0093, device='cuda:0', grad_fn=<DivBackward0>)}\t2021-08-13 00:38:21.072721\n",
      "Epoch [0], itr [11000]\tLoss: 0.23478777706623077\tLoss Dictionary: {'loss_classifier': tensor(0.0553, device='cuda:0', grad_fn=<NllLossBackward>), 'loss_box_reg': tensor(0.1341, device='cuda:0', grad_fn=<DivBackward0>), 'loss_objectness': tensor(0.0099, device='cuda:0', grad_fn=<BinaryCrossEntropyWithLogitsBackward>), 'loss_rpn_box_reg': tensor(0.0354, device='cuda:0', grad_fn=<DivBackward0>)}\t2021-08-13 00:43:41.007338\n",
      "Epoch [0], itr [11500]\tLoss: 0.08967112004756927\tLoss Dictionary: {'loss_classifier': tensor(0.0337, device='cuda:0', grad_fn=<NllLossBackward>), 'loss_box_reg': tensor(0.0471, device='cuda:0', grad_fn=<DivBackward0>), 'loss_objectness': tensor(0.0069, device='cuda:0', grad_fn=<BinaryCrossEntropyWithLogitsBackward>), 'loss_rpn_box_reg': tensor(0.0020, device='cuda:0', grad_fn=<DivBackward0>)}\t2021-08-13 00:49:00.976323\n",
      "Epoch [0], itr [12000]\tLoss: 0.290867418050766\tLoss Dictionary: {'loss_classifier': tensor(0.0777, device='cuda:0', grad_fn=<NllLossBackward>), 'loss_box_reg': tensor(0.1882, device='cuda:0', grad_fn=<DivBackward0>), 'loss_objectness': tensor(0.0017, device='cuda:0', grad_fn=<BinaryCrossEntropyWithLogitsBackward>), 'loss_rpn_box_reg': tensor(0.0232, device='cuda:0', grad_fn=<DivBackward0>)}\t2021-08-13 00:54:20.931666\n",
      "Epoch [0], itr [12500]\tLoss: 0.17339198291301727\tLoss Dictionary: {'loss_classifier': tensor(0.0312, device='cuda:0', grad_fn=<NllLossBackward>), 'loss_box_reg': tensor(0.1073, device='cuda:0', grad_fn=<DivBackward0>), 'loss_objectness': tensor(0.0010, device='cuda:0', grad_fn=<BinaryCrossEntropyWithLogitsBackward>), 'loss_rpn_box_reg': tensor(0.0339, device='cuda:0', grad_fn=<DivBackward0>)}\t2021-08-13 00:59:41.072774\n",
      "Epoch [1], itr [0]\tLoss: 0.11661617457866669\tLoss Dictionary: {'loss_classifier': tensor(0.0331, device='cuda:0', grad_fn=<NllLossBackward>), 'loss_box_reg': tensor(0.0604, device='cuda:0', grad_fn=<DivBackward0>), 'loss_objectness': tensor(0.0022, device='cuda:0', grad_fn=<BinaryCrossEntropyWithLogitsBackward>), 'loss_rpn_box_reg': tensor(0.0209, device='cuda:0', grad_fn=<DivBackward0>)}\t2021-08-13 01:04:59.986178\n",
      "Epoch [1], itr [500]\tLoss: 0.03156841918826103\tLoss Dictionary: {'loss_classifier': tensor(0.0082, device='cuda:0', grad_fn=<NllLossBackward>), 'loss_box_reg': tensor(0.0201, device='cuda:0', grad_fn=<DivBackward0>), 'loss_objectness': tensor(0.0006, device='cuda:0', grad_fn=<BinaryCrossEntropyWithLogitsBackward>), 'loss_rpn_box_reg': tensor(0.0027, device='cuda:0', grad_fn=<DivBackward0>)}\t2021-08-13 01:10:20.836281\n",
      "Epoch [1], itr [1000]\tLoss: 0.335542231798172\tLoss Dictionary: {'loss_classifier': tensor(0.0947, device='cuda:0', grad_fn=<NllLossBackward>), 'loss_box_reg': tensor(0.2094, device='cuda:0', grad_fn=<DivBackward0>), 'loss_objectness': tensor(0.0123, device='cuda:0', grad_fn=<BinaryCrossEntropyWithLogitsBackward>), 'loss_rpn_box_reg': tensor(0.0191, device='cuda:0', grad_fn=<DivBackward0>)}\t2021-08-13 01:15:41.404027\n",
      "Epoch [1], itr [1500]\tLoss: 0.1963571310043335\tLoss Dictionary: {'loss_classifier': tensor(0.0469, device='cuda:0', grad_fn=<NllLossBackward>), 'loss_box_reg': tensor(0.1374, device='cuda:0', grad_fn=<DivBackward0>), 'loss_objectness': tensor(0.0014, device='cuda:0', grad_fn=<BinaryCrossEntropyWithLogitsBackward>), 'loss_rpn_box_reg': tensor(0.0106, device='cuda:0', grad_fn=<DivBackward0>)}\t2021-08-13 01:21:01.445916\n",
      "Epoch [1], itr [2000]\tLoss: 0.16348275542259216\tLoss Dictionary: {'loss_classifier': tensor(0.0475, device='cuda:0', grad_fn=<NllLossBackward>), 'loss_box_reg': tensor(0.1017, device='cuda:0', grad_fn=<DivBackward0>), 'loss_objectness': tensor(0.0048, device='cuda:0', grad_fn=<BinaryCrossEntropyWithLogitsBackward>), 'loss_rpn_box_reg': tensor(0.0095, device='cuda:0', grad_fn=<DivBackward0>)}\t2021-08-13 01:26:21.573835\n",
      "Epoch [1], itr [2500]\tLoss: 0.14015096426010132\tLoss Dictionary: {'loss_classifier': tensor(0.0291, device='cuda:0', grad_fn=<NllLossBackward>), 'loss_box_reg': tensor(0.0716, device='cuda:0', grad_fn=<DivBackward0>), 'loss_objectness': tensor(0.0049, device='cuda:0', grad_fn=<BinaryCrossEntropyWithLogitsBackward>), 'loss_rpn_box_reg': tensor(0.0346, device='cuda:0', grad_fn=<DivBackward0>)}\t2021-08-13 01:31:41.768264\n",
      "Epoch [1], itr [3000]\tLoss: 0.14391717314720154\tLoss Dictionary: {'loss_classifier': tensor(0.0338, device='cuda:0', grad_fn=<NllLossBackward>), 'loss_box_reg': tensor(0.0888, device='cuda:0', grad_fn=<DivBackward0>), 'loss_objectness': tensor(0.0061, device='cuda:0', grad_fn=<BinaryCrossEntropyWithLogitsBackward>), 'loss_rpn_box_reg': tensor(0.0152, device='cuda:0', grad_fn=<DivBackward0>)}\t2021-08-13 01:37:01.948859\n",
      "Epoch [1], itr [3500]\tLoss: 0.13364733755588531\tLoss Dictionary: {'loss_classifier': tensor(0.0326, device='cuda:0', grad_fn=<NllLossBackward>), 'loss_box_reg': tensor(0.0790, device='cuda:0', grad_fn=<DivBackward0>), 'loss_objectness': tensor(0.0051, device='cuda:0', grad_fn=<BinaryCrossEntropyWithLogitsBackward>), 'loss_rpn_box_reg': tensor(0.0169, device='cuda:0', grad_fn=<DivBackward0>)}\t2021-08-13 01:42:22.162580\n",
      "Epoch [1], itr [4000]\tLoss: 0.27232539653778076\tLoss Dictionary: {'loss_classifier': tensor(0.0943, device='cuda:0', grad_fn=<NllLossBackward>), 'loss_box_reg': tensor(0.1661, device='cuda:0', grad_fn=<DivBackward0>), 'loss_objectness': tensor(0.0017, device='cuda:0', grad_fn=<BinaryCrossEntropyWithLogitsBackward>), 'loss_rpn_box_reg': tensor(0.0102, device='cuda:0', grad_fn=<DivBackward0>)}\t2021-08-13 01:47:42.051608\n",
      "Epoch [1], itr [4500]\tLoss: 0.08327659219503403\tLoss Dictionary: {'loss_classifier': tensor(0.0225, device='cuda:0', grad_fn=<NllLossBackward>), 'loss_box_reg': tensor(0.0514, device='cuda:0', grad_fn=<DivBackward0>), 'loss_objectness': tensor(0.0023, device='cuda:0', grad_fn=<BinaryCrossEntropyWithLogitsBackward>), 'loss_rpn_box_reg': tensor(0.0072, device='cuda:0', grad_fn=<DivBackward0>)}\t2021-08-13 01:53:01.984620\n",
      "Epoch [1], itr [5000]\tLoss: 0.19850917160511017\tLoss Dictionary: {'loss_classifier': tensor(0.0457, device='cuda:0', grad_fn=<NllLossBackward>), 'loss_box_reg': tensor(0.1363, device='cuda:0', grad_fn=<DivBackward0>), 'loss_objectness': tensor(0.0024, device='cuda:0', grad_fn=<BinaryCrossEntropyWithLogitsBackward>), 'loss_rpn_box_reg': tensor(0.0141, device='cuda:0', grad_fn=<DivBackward0>)}\t2021-08-13 01:58:21.864853\n",
      "Epoch [1], itr [5500]\tLoss: 0.027433140203356743\tLoss Dictionary: {'loss_classifier': tensor(0.0167, device='cuda:0', grad_fn=<NllLossBackward>), 'loss_box_reg': tensor(0., device='cuda:0', grad_fn=<DivBackward0>), 'loss_objectness': tensor(0.0009, device='cuda:0', grad_fn=<BinaryCrossEntropyWithLogitsBackward>), 'loss_rpn_box_reg': tensor(0.0098, device='cuda:0', grad_fn=<DivBackward0>)}\t2021-08-13 02:03:41.845532\n",
      "Epoch [1], itr [6000]\tLoss: 0.09601189196109772\tLoss Dictionary: {'loss_classifier': tensor(0.0374, device='cuda:0', grad_fn=<NllLossBackward>), 'loss_box_reg': tensor(0.0541, device='cuda:0', grad_fn=<DivBackward0>), 'loss_objectness': tensor(0.0005, device='cuda:0', grad_fn=<BinaryCrossEntropyWithLogitsBackward>), 'loss_rpn_box_reg': tensor(0.0040, device='cuda:0', grad_fn=<DivBackward0>)}\t2021-08-13 02:09:02.001710\n",
      "Epoch [1], itr [6500]\tLoss: 0.2608254849910736\tLoss Dictionary: {'loss_classifier': tensor(0.0780, device='cuda:0', grad_fn=<NllLossBackward>), 'loss_box_reg': tensor(0.1549, device='cuda:0', grad_fn=<DivBackward0>), 'loss_objectness': tensor(0.0006, device='cuda:0', grad_fn=<BinaryCrossEntropyWithLogitsBackward>), 'loss_rpn_box_reg': tensor(0.0273, device='cuda:0', grad_fn=<DivBackward0>)}\t2021-08-13 02:14:22.827168\n",
      "Epoch [1], itr [7000]\tLoss: 0.0777452364563942\tLoss Dictionary: {'loss_classifier': tensor(0.0172, device='cuda:0', grad_fn=<NllLossBackward>), 'loss_box_reg': tensor(0.0560, device='cuda:0', grad_fn=<DivBackward0>), 'loss_objectness': tensor(0.0010, device='cuda:0', grad_fn=<BinaryCrossEntropyWithLogitsBackward>), 'loss_rpn_box_reg': tensor(0.0035, device='cuda:0', grad_fn=<DivBackward0>)}\t2021-08-13 02:19:43.194185\n",
      "Epoch [1], itr [7500]\tLoss: 0.18424919247627258\tLoss Dictionary: {'loss_classifier': tensor(0.0480, device='cuda:0', grad_fn=<NllLossBackward>), 'loss_box_reg': tensor(0.1022, device='cuda:0', grad_fn=<DivBackward0>), 'loss_objectness': tensor(0.0046, device='cuda:0', grad_fn=<BinaryCrossEntropyWithLogitsBackward>), 'loss_rpn_box_reg': tensor(0.0295, device='cuda:0', grad_fn=<DivBackward0>)}\t2021-08-13 02:25:03.039249\n",
      "Epoch [1], itr [8000]\tLoss: 0.15117914974689484\tLoss Dictionary: {'loss_classifier': tensor(0.0516, device='cuda:0', grad_fn=<NllLossBackward>), 'loss_box_reg': tensor(0.0865, device='cuda:0', grad_fn=<DivBackward0>), 'loss_objectness': tensor(0.0011, device='cuda:0', grad_fn=<BinaryCrossEntropyWithLogitsBackward>), 'loss_rpn_box_reg': tensor(0.0120, device='cuda:0', grad_fn=<DivBackward0>)}\t2021-08-13 02:30:23.008935\n",
      "Epoch [1], itr [8500]\tLoss: 0.27217549085617065\tLoss Dictionary: {'loss_classifier': tensor(0.0640, device='cuda:0', grad_fn=<NllLossBackward>), 'loss_box_reg': tensor(0.1950, device='cuda:0', grad_fn=<DivBackward0>), 'loss_objectness': tensor(0.0014, device='cuda:0', grad_fn=<BinaryCrossEntropyWithLogitsBackward>), 'loss_rpn_box_reg': tensor(0.0118, device='cuda:0', grad_fn=<DivBackward0>)}\t2021-08-13 02:35:43.114628\n",
      "Epoch [1], itr [9000]\tLoss: 0.10559532791376114\tLoss Dictionary: {'loss_classifier': tensor(0.0275, device='cuda:0', grad_fn=<NllLossBackward>), 'loss_box_reg': tensor(0.0747, device='cuda:0', grad_fn=<DivBackward0>), 'loss_objectness': tensor(0.0011, device='cuda:0', grad_fn=<BinaryCrossEntropyWithLogitsBackward>), 'loss_rpn_box_reg': tensor(0.0023, device='cuda:0', grad_fn=<DivBackward0>)}\t2021-08-13 02:41:03.108862\n",
      "Epoch [1], itr [9500]\tLoss: 0.23276077210903168\tLoss Dictionary: {'loss_classifier': tensor(0.0457, device='cuda:0', grad_fn=<NllLossBackward>), 'loss_box_reg': tensor(0.1714, device='cuda:0', grad_fn=<DivBackward0>), 'loss_objectness': tensor(0.0029, device='cuda:0', grad_fn=<BinaryCrossEntropyWithLogitsBackward>), 'loss_rpn_box_reg': tensor(0.0128, device='cuda:0', grad_fn=<DivBackward0>)}\t2021-08-13 02:46:23.257884\n",
      "Epoch [1], itr [10000]\tLoss: 0.0020657870918512344\tLoss Dictionary: {'loss_classifier': tensor(0.0003, device='cuda:0', grad_fn=<NllLossBackward>), 'loss_box_reg': tensor(0., device='cuda:0', grad_fn=<DivBackward0>), 'loss_objectness': tensor(0.0012, device='cuda:0', grad_fn=<BinaryCrossEntropyWithLogitsBackward>), 'loss_rpn_box_reg': tensor(0.0006, device='cuda:0', grad_fn=<DivBackward0>)}\t2021-08-13 02:51:43.308915\n",
      "Epoch [1], itr [10500]\tLoss: 0.14123080670833588\tLoss Dictionary: {'loss_classifier': tensor(0.0238, device='cuda:0', grad_fn=<NllLossBackward>), 'loss_box_reg': tensor(0.0939, device='cuda:0', grad_fn=<DivBackward0>), 'loss_objectness': tensor(0.0079, device='cuda:0', grad_fn=<BinaryCrossEntropyWithLogitsBackward>), 'loss_rpn_box_reg': tensor(0.0157, device='cuda:0', grad_fn=<DivBackward0>)}\t2021-08-13 02:57:03.331683\n",
      "Epoch [1], itr [11000]\tLoss: 0.1070447564125061\tLoss Dictionary: {'loss_classifier': tensor(0.0357, device='cuda:0', grad_fn=<NllLossBackward>), 'loss_box_reg': tensor(0.0610, device='cuda:0', grad_fn=<DivBackward0>), 'loss_objectness': tensor(0.0068, device='cuda:0', grad_fn=<BinaryCrossEntropyWithLogitsBackward>), 'loss_rpn_box_reg': tensor(0.0036, device='cuda:0', grad_fn=<DivBackward0>)}\t2021-08-13 03:02:23.393837\n",
      "Epoch [1], itr [11500]\tLoss: 0.05135394632816315\tLoss Dictionary: {'loss_classifier': tensor(0.0093, device='cuda:0', grad_fn=<NllLossBackward>), 'loss_box_reg': tensor(0.0345, device='cuda:0', grad_fn=<DivBackward0>), 'loss_objectness': tensor(0.0049, device='cuda:0', grad_fn=<BinaryCrossEntropyWithLogitsBackward>), 'loss_rpn_box_reg': tensor(0.0026, device='cuda:0', grad_fn=<DivBackward0>)}\t2021-08-13 03:07:43.932849\n",
      "Epoch [1], itr [12000]\tLoss: 0.24237121641635895\tLoss Dictionary: {'loss_classifier': tensor(0.0648, device='cuda:0', grad_fn=<NllLossBackward>), 'loss_box_reg': tensor(0.1580, device='cuda:0', grad_fn=<DivBackward0>), 'loss_objectness': tensor(0.0039, device='cuda:0', grad_fn=<BinaryCrossEntropyWithLogitsBackward>), 'loss_rpn_box_reg': tensor(0.0157, device='cuda:0', grad_fn=<DivBackward0>)}\t2021-08-13 03:13:04.009244\n",
      "Epoch [1], itr [12500]\tLoss: 0.1302180141210556\tLoss Dictionary: {'loss_classifier': tensor(0.0392, device='cuda:0', grad_fn=<NllLossBackward>), 'loss_box_reg': tensor(0.0750, device='cuda:0', grad_fn=<DivBackward0>), 'loss_objectness': tensor(0.0059, device='cuda:0', grad_fn=<BinaryCrossEntropyWithLogitsBackward>), 'loss_rpn_box_reg': tensor(0.0101, device='cuda:0', grad_fn=<DivBackward0>)}\t2021-08-13 03:18:24.099850\n",
      "Epoch [2], itr [0]\tLoss: 0.18753719329833984\tLoss Dictionary: {'loss_classifier': tensor(0.0557, device='cuda:0', grad_fn=<NllLossBackward>), 'loss_box_reg': tensor(0.1157, device='cuda:0', grad_fn=<DivBackward0>), 'loss_objectness': tensor(0.0026, device='cuda:0', grad_fn=<BinaryCrossEntropyWithLogitsBackward>), 'loss_rpn_box_reg': tensor(0.0134, device='cuda:0', grad_fn=<DivBackward0>)}\t2021-08-13 03:23:42.766589\n",
      "Epoch [2], itr [500]\tLoss: 0.0951928198337555\tLoss Dictionary: {'loss_classifier': tensor(0.0225, device='cuda:0', grad_fn=<NllLossBackward>), 'loss_box_reg': tensor(0.0651, device='cuda:0', grad_fn=<DivBackward0>), 'loss_objectness': tensor(0.0013, device='cuda:0', grad_fn=<BinaryCrossEntropyWithLogitsBackward>), 'loss_rpn_box_reg': tensor(0.0062, device='cuda:0', grad_fn=<DivBackward0>)}\t2021-08-13 03:29:02.963891\n",
      "Epoch [2], itr [1000]\tLoss: 0.0775412768125534\tLoss Dictionary: {'loss_classifier': tensor(0.0233, device='cuda:0', grad_fn=<NllLossBackward>), 'loss_box_reg': tensor(0.0502, device='cuda:0', grad_fn=<DivBackward0>), 'loss_objectness': tensor(0.0009, device='cuda:0', grad_fn=<BinaryCrossEntropyWithLogitsBackward>), 'loss_rpn_box_reg': tensor(0.0031, device='cuda:0', grad_fn=<DivBackward0>)}\t2021-08-13 03:34:23.082627\n",
      "Epoch [2], itr [1500]\tLoss: 0.04997335001826286\tLoss Dictionary: {'loss_classifier': tensor(0.0204, device='cuda:0', grad_fn=<NllLossBackward>), 'loss_box_reg': tensor(0.0205, device='cuda:0', grad_fn=<DivBackward0>), 'loss_objectness': tensor(0.0022, device='cuda:0', grad_fn=<BinaryCrossEntropyWithLogitsBackward>), 'loss_rpn_box_reg': tensor(0.0069, device='cuda:0', grad_fn=<DivBackward0>)}\t2021-08-13 03:39:43.232069\n",
      "Epoch [2], itr [2000]\tLoss: 0.1530081331729889\tLoss Dictionary: {'loss_classifier': tensor(0.0219, device='cuda:0', grad_fn=<NllLossBackward>), 'loss_box_reg': tensor(0.0676, device='cuda:0', grad_fn=<DivBackward0>), 'loss_objectness': tensor(0.0003, device='cuda:0', grad_fn=<BinaryCrossEntropyWithLogitsBackward>), 'loss_rpn_box_reg': tensor(0.0632, device='cuda:0', grad_fn=<DivBackward0>)}\t2021-08-13 03:45:03.366594\n",
      "Epoch [2], itr [2500]\tLoss: 0.030023934319615364\tLoss Dictionary: {'loss_classifier': tensor(0.0034, device='cuda:0', grad_fn=<NllLossBackward>), 'loss_box_reg': tensor(0.0236, device='cuda:0', grad_fn=<DivBackward0>), 'loss_objectness': tensor(0.0006, device='cuda:0', grad_fn=<BinaryCrossEntropyWithLogitsBackward>), 'loss_rpn_box_reg': tensor(0.0023, device='cuda:0', grad_fn=<DivBackward0>)}\t2021-08-13 03:50:23.402853\n",
      "Epoch [2], itr [3000]\tLoss: 0.08952217549085617\tLoss Dictionary: {'loss_classifier': tensor(0.0357, device='cuda:0', grad_fn=<NllLossBackward>), 'loss_box_reg': tensor(0.0455, device='cuda:0', grad_fn=<DivBackward0>), 'loss_objectness': tensor(0.0050, device='cuda:0', grad_fn=<BinaryCrossEntropyWithLogitsBackward>), 'loss_rpn_box_reg': tensor(0.0033, device='cuda:0', grad_fn=<DivBackward0>)}\t2021-08-13 03:55:43.211386\n",
      "Epoch [2], itr [3500]\tLoss: 0.008939567022025585\tLoss Dictionary: {'loss_classifier': tensor(0.0053, device='cuda:0', grad_fn=<NllLossBackward>), 'loss_box_reg': tensor(0., device='cuda:0', grad_fn=<DivBackward0>), 'loss_objectness': tensor(0.0020, device='cuda:0', grad_fn=<BinaryCrossEntropyWithLogitsBackward>), 'loss_rpn_box_reg': tensor(0.0016, device='cuda:0', grad_fn=<DivBackward0>)}\t2021-08-13 04:01:03.208135\n",
      "Epoch [2], itr [4000]\tLoss: 0.1420859694480896\tLoss Dictionary: {'loss_classifier': tensor(0.0464, device='cuda:0', grad_fn=<NllLossBackward>), 'loss_box_reg': tensor(0.0903, device='cuda:0', grad_fn=<DivBackward0>), 'loss_objectness': tensor(0.0015, device='cuda:0', grad_fn=<BinaryCrossEntropyWithLogitsBackward>), 'loss_rpn_box_reg': tensor(0.0039, device='cuda:0', grad_fn=<DivBackward0>)}\t2021-08-13 04:06:23.524032\n",
      "Epoch [2], itr [4500]\tLoss: 0.14343975484371185\tLoss Dictionary: {'loss_classifier': tensor(0.0334, device='cuda:0', grad_fn=<NllLossBackward>), 'loss_box_reg': tensor(0.0879, device='cuda:0', grad_fn=<DivBackward0>), 'loss_objectness': tensor(0.0039, device='cuda:0', grad_fn=<BinaryCrossEntropyWithLogitsBackward>), 'loss_rpn_box_reg': tensor(0.0182, device='cuda:0', grad_fn=<DivBackward0>)}\t2021-08-13 04:11:43.690722\n",
      "Epoch [2], itr [5000]\tLoss: 0.26007044315338135\tLoss Dictionary: {'loss_classifier': tensor(0.0494, device='cuda:0', grad_fn=<NllLossBackward>), 'loss_box_reg': tensor(0.1708, device='cuda:0', grad_fn=<DivBackward0>), 'loss_objectness': tensor(0.0031, device='cuda:0', grad_fn=<BinaryCrossEntropyWithLogitsBackward>), 'loss_rpn_box_reg': tensor(0.0367, device='cuda:0', grad_fn=<DivBackward0>)}\t2021-08-13 04:17:03.934737\n",
      "Epoch [2], itr [5500]\tLoss: 0.09323497116565704\tLoss Dictionary: {'loss_classifier': tensor(0.0185, device='cuda:0', grad_fn=<NllLossBackward>), 'loss_box_reg': tensor(0.0557, device='cuda:0', grad_fn=<DivBackward0>), 'loss_objectness': tensor(0.0009, device='cuda:0', grad_fn=<BinaryCrossEntropyWithLogitsBackward>), 'loss_rpn_box_reg': tensor(0.0182, device='cuda:0', grad_fn=<DivBackward0>)}\t2021-08-13 04:22:24.174152\n",
      "Epoch [2], itr [6000]\tLoss: 0.06768874824047089\tLoss Dictionary: {'loss_classifier': tensor(0.0186, device='cuda:0', grad_fn=<NllLossBackward>), 'loss_box_reg': tensor(0.0447, device='cuda:0', grad_fn=<DivBackward0>), 'loss_objectness': tensor(0.0019, device='cuda:0', grad_fn=<BinaryCrossEntropyWithLogitsBackward>), 'loss_rpn_box_reg': tensor(0.0026, device='cuda:0', grad_fn=<DivBackward0>)}\t2021-08-13 04:27:44.461294\n",
      "Epoch [2], itr [6500]\tLoss: 0.07630285620689392\tLoss Dictionary: {'loss_classifier': tensor(0.0240, device='cuda:0', grad_fn=<NllLossBackward>), 'loss_box_reg': tensor(0.0411, device='cuda:0', grad_fn=<DivBackward0>), 'loss_objectness': tensor(0.0078, device='cuda:0', grad_fn=<BinaryCrossEntropyWithLogitsBackward>), 'loss_rpn_box_reg': tensor(0.0034, device='cuda:0', grad_fn=<DivBackward0>)}\t2021-08-13 04:33:04.714162\n",
      "Epoch [2], itr [7000]\tLoss: 0.2224615514278412\tLoss Dictionary: {'loss_classifier': tensor(0.0897, device='cuda:0', grad_fn=<NllLossBackward>), 'loss_box_reg': tensor(0.1257, device='cuda:0', grad_fn=<DivBackward0>), 'loss_objectness': tensor(0.0010, device='cuda:0', grad_fn=<BinaryCrossEntropyWithLogitsBackward>), 'loss_rpn_box_reg': tensor(0.0061, device='cuda:0', grad_fn=<DivBackward0>)}\t2021-08-13 04:38:25.126880\n",
      "Epoch [2], itr [7500]\tLoss: 0.11748185753822327\tLoss Dictionary: {'loss_classifier': tensor(0.0205, device='cuda:0', grad_fn=<NllLossBackward>), 'loss_box_reg': tensor(0.0783, device='cuda:0', grad_fn=<DivBackward0>), 'loss_objectness': tensor(0.0074, device='cuda:0', grad_fn=<BinaryCrossEntropyWithLogitsBackward>), 'loss_rpn_box_reg': tensor(0.0113, device='cuda:0', grad_fn=<DivBackward0>)}\t2021-08-13 04:43:45.134386\n",
      "Epoch [2], itr [8000]\tLoss: 0.05464396998286247\tLoss Dictionary: {'loss_classifier': tensor(0.0192, device='cuda:0', grad_fn=<NllLossBackward>), 'loss_box_reg': tensor(0.0310, device='cuda:0', grad_fn=<DivBackward0>), 'loss_objectness': tensor(0.0017, device='cuda:0', grad_fn=<BinaryCrossEntropyWithLogitsBackward>), 'loss_rpn_box_reg': tensor(0.0028, device='cuda:0', grad_fn=<DivBackward0>)}\t2021-08-13 04:49:05.300390\n",
      "Epoch [2], itr [8500]\tLoss: 0.10849367082118988\tLoss Dictionary: {'loss_classifier': tensor(0.0494, device='cuda:0', grad_fn=<NllLossBackward>), 'loss_box_reg': tensor(0.0489, device='cuda:0', grad_fn=<DivBackward0>), 'loss_objectness': tensor(0.0049, device='cuda:0', grad_fn=<BinaryCrossEntropyWithLogitsBackward>), 'loss_rpn_box_reg': tensor(0.0053, device='cuda:0', grad_fn=<DivBackward0>)}\t2021-08-13 04:54:25.172643\n",
      "Epoch [2], itr [9000]\tLoss: 0.3057277798652649\tLoss Dictionary: {'loss_classifier': tensor(0.0713, device='cuda:0', grad_fn=<NllLossBackward>), 'loss_box_reg': tensor(0.1919, device='cuda:0', grad_fn=<DivBackward0>), 'loss_objectness': tensor(0.0097, device='cuda:0', grad_fn=<BinaryCrossEntropyWithLogitsBackward>), 'loss_rpn_box_reg': tensor(0.0329, device='cuda:0', grad_fn=<DivBackward0>)}\t2021-08-13 04:59:45.197065\n",
      "Epoch [2], itr [9500]\tLoss: 0.10082873702049255\tLoss Dictionary: {'loss_classifier': tensor(0.0327, device='cuda:0', grad_fn=<NllLossBackward>), 'loss_box_reg': tensor(0.0599, device='cuda:0', grad_fn=<DivBackward0>), 'loss_objectness': tensor(0.0008, device='cuda:0', grad_fn=<BinaryCrossEntropyWithLogitsBackward>), 'loss_rpn_box_reg': tensor(0.0074, device='cuda:0', grad_fn=<DivBackward0>)}\t2021-08-13 05:05:05.189395\n",
      "Epoch [2], itr [10000]\tLoss: 0.20574650168418884\tLoss Dictionary: {'loss_classifier': tensor(0.0665, device='cuda:0', grad_fn=<NllLossBackward>), 'loss_box_reg': tensor(0.1247, device='cuda:0', grad_fn=<DivBackward0>), 'loss_objectness': tensor(0.0024, device='cuda:0', grad_fn=<BinaryCrossEntropyWithLogitsBackward>), 'loss_rpn_box_reg': tensor(0.0121, device='cuda:0', grad_fn=<DivBackward0>)}\t2021-08-13 05:10:25.557028\n",
      "Epoch [2], itr [10500]\tLoss: 0.13729465007781982\tLoss Dictionary: {'loss_classifier': tensor(0.0319, device='cuda:0', grad_fn=<NllLossBackward>), 'loss_box_reg': tensor(0.0947, device='cuda:0', grad_fn=<DivBackward0>), 'loss_objectness': tensor(0.0012, device='cuda:0', grad_fn=<BinaryCrossEntropyWithLogitsBackward>), 'loss_rpn_box_reg': tensor(0.0095, device='cuda:0', grad_fn=<DivBackward0>)}\t2021-08-13 05:15:45.471401\n",
      "Epoch [2], itr [11000]\tLoss: 0.22170738875865936\tLoss Dictionary: {'loss_classifier': tensor(0.0614, device='cuda:0', grad_fn=<NllLossBackward>), 'loss_box_reg': tensor(0.1341, device='cuda:0', grad_fn=<DivBackward0>), 'loss_objectness': tensor(0.0110, device='cuda:0', grad_fn=<BinaryCrossEntropyWithLogitsBackward>), 'loss_rpn_box_reg': tensor(0.0152, device='cuda:0', grad_fn=<DivBackward0>)}\t2021-08-13 05:21:05.286206\n",
      "Epoch [2], itr [11500]\tLoss: 0.07317207753658295\tLoss Dictionary: {'loss_classifier': tensor(0.0171, device='cuda:0', grad_fn=<NllLossBackward>), 'loss_box_reg': tensor(0.0516, device='cuda:0', grad_fn=<DivBackward0>), 'loss_objectness': tensor(0.0005, device='cuda:0', grad_fn=<BinaryCrossEntropyWithLogitsBackward>), 'loss_rpn_box_reg': tensor(0.0040, device='cuda:0', grad_fn=<DivBackward0>)}\t2021-08-13 05:26:25.514998\n",
      "Epoch [2], itr [12000]\tLoss: 0.16574889421463013\tLoss Dictionary: {'loss_classifier': tensor(0.0514, device='cuda:0', grad_fn=<NllLossBackward>), 'loss_box_reg': tensor(0.1078, device='cuda:0', grad_fn=<DivBackward0>), 'loss_objectness': tensor(0.0026, device='cuda:0', grad_fn=<BinaryCrossEntropyWithLogitsBackward>), 'loss_rpn_box_reg': tensor(0.0040, device='cuda:0', grad_fn=<DivBackward0>)}\t2021-08-13 05:31:45.846322\n",
      "Epoch [2], itr [12500]\tLoss: 0.0020644296891987324\tLoss Dictionary: {'loss_classifier': tensor(6.0777e-05, device='cuda:0', grad_fn=<NllLossBackward>), 'loss_box_reg': tensor(0., device='cuda:0', grad_fn=<DivBackward0>), 'loss_objectness': tensor(0.0007, device='cuda:0', grad_fn=<BinaryCrossEntropyWithLogitsBackward>), 'loss_rpn_box_reg': tensor(0.0013, device='cuda:0', grad_fn=<DivBackward0>)}\t2021-08-13 05:37:05.742163\n"
     ]
    }
   ],
   "source": [
    "main()"
   ]
  },
  {
   "cell_type": "code",
   "execution_count": 22,
   "id": "sorted-amino",
   "metadata": {
    "execution": {
     "iopub.execute_input": "2021-08-13T05:42:24.790314Z",
     "iopub.status.busy": "2021-08-13T05:42:24.788652Z",
     "iopub.status.idle": "2021-08-13T05:42:24.792545Z",
     "shell.execute_reply": "2021-08-13T05:42:24.792111Z"
    },
    "papermill": {
     "duration": 0.056237,
     "end_time": "2021-08-13T05:42:24.792654",
     "exception": false,
     "start_time": "2021-08-13T05:42:24.736417",
     "status": "completed"
    },
    "tags": []
   },
   "outputs": [
    {
     "name": "stderr",
     "output_type": "stream",
     "text": [
      "No traceback available to show.\n"
     ]
    }
   ],
   "source": [
    "%tb"
   ]
  }
 ],
 "metadata": {
  "kernelspec": {
   "display_name": "Python 3",
   "language": "python",
   "name": "python3"
  },
  "language_info": {
   "codemirror_mode": {
    "name": "ipython",
    "version": 3
   },
   "file_extension": ".py",
   "mimetype": "text/x-python",
   "name": "python",
   "nbconvert_exporter": "python",
   "pygments_lexer": "ipython3",
   "version": "3.7.10"
  },
  "papermill": {
   "default_parameters": {},
   "duration": 25004.051559,
   "end_time": "2021-08-13T05:42:26.387401",
   "environment_variables": {},
   "exception": null,
   "input_path": "__notebook__.ipynb",
   "output_path": "__notebook__.ipynb",
   "parameters": {},
   "start_time": "2021-08-12T22:45:42.335842",
   "version": "2.3.3"
  }
 },
 "nbformat": 4,
 "nbformat_minor": 5
}
