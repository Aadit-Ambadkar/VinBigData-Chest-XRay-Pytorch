{
 "cells": [
  {
   "cell_type": "code",
   "execution_count": 1,
   "id": "107e3d71",
   "metadata": {
    "execution": {
     "iopub.execute_input": "2021-08-09T04:01:42.040726Z",
     "iopub.status.busy": "2021-08-09T04:01:42.039249Z",
     "iopub.status.idle": "2021-08-09T04:01:57.265850Z",
     "shell.execute_reply": "2021-08-09T04:01:57.265222Z",
     "shell.execute_reply.started": "2021-08-01T04:21:23.865433Z"
    },
    "papermill": {
     "duration": 15.244524,
     "end_time": "2021-08-09T04:01:57.266000",
     "exception": false,
     "start_time": "2021-08-09T04:01:42.021476",
     "status": "completed"
    },
    "tags": []
   },
   "outputs": [
    {
     "name": "stdout",
     "output_type": "stream",
     "text": [
      "Collecting pycocotools\r\n",
      "  Downloading pycocotools-2.0.2.tar.gz (23 kB)\r\n",
      "Requirement already satisfied: setuptools>=18.0 in /opt/conda/lib/python3.7/site-packages (from pycocotools) (49.6.0.post20210108)\r\n",
      "Requirement already satisfied: cython>=0.27.3 in /opt/conda/lib/python3.7/site-packages (from pycocotools) (0.29.23)\r\n",
      "Requirement already satisfied: matplotlib>=2.1.0 in /opt/conda/lib/python3.7/site-packages (from pycocotools) (3.4.2)\r\n",
      "Requirement already satisfied: numpy>=1.16 in /opt/conda/lib/python3.7/site-packages (from matplotlib>=2.1.0->pycocotools) (1.19.5)\r\n",
      "Requirement already satisfied: cycler>=0.10 in /opt/conda/lib/python3.7/site-packages (from matplotlib>=2.1.0->pycocotools) (0.10.0)\r\n",
      "Requirement already satisfied: pillow>=6.2.0 in /opt/conda/lib/python3.7/site-packages (from matplotlib>=2.1.0->pycocotools) (8.2.0)\r\n",
      "Requirement already satisfied: pyparsing>=2.2.1 in /opt/conda/lib/python3.7/site-packages (from matplotlib>=2.1.0->pycocotools) (2.4.7)\r\n",
      "Requirement already satisfied: kiwisolver>=1.0.1 in /opt/conda/lib/python3.7/site-packages (from matplotlib>=2.1.0->pycocotools) (1.3.1)\r\n",
      "Requirement already satisfied: python-dateutil>=2.7 in /opt/conda/lib/python3.7/site-packages (from matplotlib>=2.1.0->pycocotools) (2.8.1)\r\n",
      "Requirement already satisfied: six in /opt/conda/lib/python3.7/site-packages (from cycler>=0.10->matplotlib>=2.1.0->pycocotools) (1.15.0)\r\n",
      "Building wheels for collected packages: pycocotools\r\n",
      "  Building wheel for pycocotools (setup.py) ... \u001b[?25l-\b \b\\\b \b|\b \b/\b \b-\b \b\\\b \b|\b \b/\b \bdone\r\n",
      "\u001b[?25h  Created wheel for pycocotools: filename=pycocotools-2.0.2-cp37-cp37m-linux_x86_64.whl size=272448 sha256=d4e3a9f4754683e45d971e2772790144eaef9829c0a573eb5fe2104778dbf846\r\n",
      "  Stored in directory: /root/.cache/pip/wheels/bc/cf/1b/e95c99c5f9d1648be3f500ca55e7ce55f24818b0f48336adaf\r\n",
      "Successfully built pycocotools\r\n",
      "Installing collected packages: pycocotools\r\n",
      "Successfully installed pycocotools-2.0.2\r\n",
      "\u001b[33mWARNING: Running pip as root will break packages and permissions. You should install packages reliably by using venv: https://pip.pypa.io/warnings/venv\u001b[0m\r\n"
     ]
    }
   ],
   "source": [
    "!pip install pycocotools"
   ]
  },
  {
   "cell_type": "code",
   "execution_count": 2,
   "id": "8cd18fc7",
   "metadata": {
    "execution": {
     "iopub.execute_input": "2021-08-09T04:01:57.303009Z",
     "iopub.status.busy": "2021-08-09T04:01:57.298724Z",
     "iopub.status.idle": "2021-08-09T04:01:58.013695Z",
     "shell.execute_reply": "2021-08-09T04:01:58.013186Z",
     "shell.execute_reply.started": "2021-08-01T04:21:43.657807Z"
    },
    "papermill": {
     "duration": 0.732756,
     "end_time": "2021-08-09T04:01:58.013837",
     "exception": false,
     "start_time": "2021-08-09T04:01:57.281081",
     "status": "completed"
    },
    "tags": []
   },
   "outputs": [],
   "source": [
    "!cp ../input/torchdetection/* ."
   ]
  },
  {
   "cell_type": "code",
   "execution_count": 3,
   "id": "683b5476",
   "metadata": {
    "_cell_guid": "b1076dfc-b9ad-4769-8c92-a6c4dae69d19",
    "_uuid": "8f2839f25d086af736a60e9eeb907d3b93b6e0e5",
    "execution": {
     "iopub.execute_input": "2021-08-09T04:01:58.051514Z",
     "iopub.status.busy": "2021-08-09T04:01:58.050655Z",
     "iopub.status.idle": "2021-08-09T04:01:59.666422Z",
     "shell.execute_reply": "2021-08-09T04:01:59.665516Z",
     "shell.execute_reply.started": "2021-08-01T04:22:09.029598Z"
    },
    "papermill": {
     "duration": 1.637728,
     "end_time": "2021-08-09T04:01:59.666582",
     "exception": false,
     "start_time": "2021-08-09T04:01:58.028854",
     "status": "completed"
    },
    "tags": []
   },
   "outputs": [],
   "source": [
    "# This Python 3 environment comes with many helpful analytics libraries installed\n",
    "# It is defined by the kaggle/python Docker image: https://github.com/kaggle/docker-python\n",
    "# For example, here's several helpful packages to load\n",
    "\n",
    "import numpy as np\n",
    "import pandas as pd \n",
    "import math\n",
    "\n",
    "# Input data files are available in the read-only \"../input/\" directory\n",
    "# For example, running this (by clicking run or pressing Shift+Enter) will list all files under the input directory\n",
    "\n",
    "import os\n",
    "import sys\n",
    "\n",
    "# You can write up to 20GB to the current directory (/kaggle/working/) that gets preserved as output when you create a version using \"Save & Run All\" \n",
    "# You can also write temporary files to /kaggle/temp/, but they won't be saved outside of the current session\n",
    "\n",
    "#my imports\n",
    "import pydicom as dicom\n",
    "import pickle\n",
    "import matplotlib as plt\n",
    "import matplotlib.patches as patches\n",
    "import pandas as pd\n",
    "import numpy as np\n",
    "import PIL\n",
    "from PIL import Image, ImageDraw\n",
    "\n",
    "import torch\n",
    "import transforms as T\n",
    "import torchvision.transforms as T2\n",
    "import utils\n",
    "import torchvision\n",
    "import tqdm\n",
    "\n",
    "\n",
    "import warnings\n",
    "warnings.filterwarnings(\"ignore\")"
   ]
  },
  {
   "cell_type": "code",
   "execution_count": 4,
   "id": "02971887",
   "metadata": {
    "execution": {
     "iopub.execute_input": "2021-08-09T04:01:59.739032Z",
     "iopub.status.busy": "2021-08-09T04:01:59.738322Z",
     "iopub.status.idle": "2021-08-09T04:01:59.740987Z",
     "shell.execute_reply": "2021-08-09T04:01:59.741370Z",
     "shell.execute_reply.started": "2021-08-01T04:22:11.126611Z"
    },
    "papermill": {
     "duration": 0.060788,
     "end_time": "2021-08-09T04:01:59.741511",
     "exception": false,
     "start_time": "2021-08-09T04:01:59.680723",
     "status": "completed"
    },
    "tags": []
   },
   "outputs": [],
   "source": [
    "device = torch.device('cuda') if torch.cuda.is_available() else torch.device('cpu')"
   ]
  },
  {
   "cell_type": "code",
   "execution_count": 5,
   "id": "dc950d70",
   "metadata": {
    "execution": {
     "iopub.execute_input": "2021-08-09T04:01:59.774001Z",
     "iopub.status.busy": "2021-08-09T04:01:59.773185Z",
     "iopub.status.idle": "2021-08-09T04:01:59.776068Z",
     "shell.execute_reply": "2021-08-09T04:01:59.775650Z",
     "shell.execute_reply.started": "2021-08-01T04:22:14.048762Z"
    },
    "papermill": {
     "duration": 0.020548,
     "end_time": "2021-08-09T04:01:59.776187",
     "exception": false,
     "start_time": "2021-08-09T04:01:59.755639",
     "status": "completed"
    },
    "tags": []
   },
   "outputs": [],
   "source": [
    "transform = []\n",
    "transform.append(T2.ToTensor())\n",
    "transform = T2.Compose(transform)"
   ]
  },
  {
   "cell_type": "code",
   "execution_count": 6,
   "id": "86c3afb6",
   "metadata": {
    "execution": {
     "iopub.execute_input": "2021-08-09T04:01:59.811263Z",
     "iopub.status.busy": "2021-08-09T04:01:59.810658Z",
     "iopub.status.idle": "2021-08-09T04:02:08.430067Z",
     "shell.execute_reply": "2021-08-09T04:02:08.430551Z",
     "shell.execute_reply.started": "2021-08-01T04:22:15.452595Z"
    },
    "papermill": {
     "duration": 8.640332,
     "end_time": "2021-08-09T04:02:08.430731",
     "exception": false,
     "start_time": "2021-08-09T04:01:59.790399",
     "status": "completed"
    },
    "tags": []
   },
   "outputs": [],
   "source": [
    "model = torch.load(\"../input/private-model-save-dataset/model-save-5.pkl\")\n",
    "model.to(device)\n",
    "model.eval()\n",
    "image_path = '../input/vinbigdata-chest-xray-abnormalities-detection/train/0032c6091dc8f1b1245fc2f5f45458fa.dicom'\n",
    "ds = dicom.read_file(image_path)\n",
    "\n",
    "img = ds.pixel_array.astype('float32')\n",
    "dimg = ds.pixel_array.astype('float32')\n",
    "\n",
    "if ds.PhotometricInterpretation=='MONOCHROME1':\n",
    "    img=np.amax(img)-img\n",
    "    dimg = np.amax(dimg)-dimg\n",
    "img = img/np.max(img)\n",
    "dimg = dimg/np.max(dimg)\n",
    "img = transform(img)\n",
    "img = img.to(device)\n",
    "# model = model.to(device)\n",
    "img.unsqueeze_(0)\n",
    "# img = img.view(1, 3, 32, 32)\n",
    "predictions = model(img)"
   ]
  },
  {
   "cell_type": "code",
   "execution_count": 7,
   "id": "08faaf0a",
   "metadata": {
    "execution": {
     "iopub.execute_input": "2021-08-09T04:02:08.470453Z",
     "iopub.status.busy": "2021-08-09T04:02:08.469798Z",
     "iopub.status.idle": "2021-08-09T04:02:08.482550Z",
     "shell.execute_reply": "2021-08-09T04:02:08.482954Z",
     "shell.execute_reply.started": "2021-08-01T04:22:27.424259Z"
    },
    "papermill": {
     "duration": 0.032677,
     "end_time": "2021-08-09T04:02:08.483084",
     "exception": false,
     "start_time": "2021-08-09T04:02:08.450407",
     "status": "completed"
    },
    "tags": []
   },
   "outputs": [
    {
     "data": {
      "text/plain": [
       "tensor([[1254.5287,  229.4641, 1762.5942,  428.4822],\n",
       "        [ 783.0709, 1367.2008, 1843.9535, 1764.5006]], device='cuda:0',\n",
       "       grad_fn=<StackBackward>)"
      ]
     },
     "execution_count": 7,
     "metadata": {},
     "output_type": "execute_result"
    }
   ],
   "source": [
    "boxes = predictions[0]['boxes']\n",
    "boxes"
   ]
  },
  {
   "cell_type": "code",
   "execution_count": 8,
   "id": "8dafb7fe",
   "metadata": {
    "execution": {
     "iopub.execute_input": "2021-08-09T04:02:08.515850Z",
     "iopub.status.busy": "2021-08-09T04:02:08.515255Z",
     "iopub.status.idle": "2021-08-09T04:02:08.521088Z",
     "shell.execute_reply": "2021-08-09T04:02:08.521520Z",
     "shell.execute_reply.started": "2021-08-01T04:22:31.868593Z"
    },
    "papermill": {
     "duration": 0.024494,
     "end_time": "2021-08-09T04:02:08.521673",
     "exception": false,
     "start_time": "2021-08-09T04:02:08.497179",
     "status": "completed"
    },
    "tags": []
   },
   "outputs": [
    {
     "data": {
      "text/plain": [
       "tensor([12,  4], device='cuda:0')"
      ]
     },
     "execution_count": 8,
     "metadata": {},
     "output_type": "execute_result"
    }
   ],
   "source": [
    "labels = predictions[0]['labels']\n",
    "labels"
   ]
  },
  {
   "cell_type": "code",
   "execution_count": 9,
   "id": "93ba6f79",
   "metadata": {
    "execution": {
     "iopub.execute_input": "2021-08-09T04:02:08.558516Z",
     "iopub.status.busy": "2021-08-09T04:02:08.557747Z",
     "iopub.status.idle": "2021-08-09T04:02:08.563168Z",
     "shell.execute_reply": "2021-08-09T04:02:08.562578Z",
     "shell.execute_reply.started": "2021-08-01T04:22:34.202746Z"
    },
    "papermill": {
     "duration": 0.024408,
     "end_time": "2021-08-09T04:02:08.563288",
     "exception": false,
     "start_time": "2021-08-09T04:02:08.538880",
     "status": "completed"
    },
    "tags": []
   },
   "outputs": [
    {
     "data": {
      "text/plain": [
       "tensor([0.7451, 0.7344], device='cuda:0', grad_fn=<IndexBackward>)"
      ]
     },
     "execution_count": 9,
     "metadata": {},
     "output_type": "execute_result"
    }
   ],
   "source": [
    "scores = predictions[0]['scores']\n",
    "scores"
   ]
  },
  {
   "cell_type": "code",
   "execution_count": 10,
   "id": "9b9934c2",
   "metadata": {
    "execution": {
     "iopub.execute_input": "2021-08-09T04:02:08.597503Z",
     "iopub.status.busy": "2021-08-09T04:02:08.596669Z",
     "iopub.status.idle": "2021-08-09T04:02:08.602240Z",
     "shell.execute_reply": "2021-08-09T04:02:08.602719Z",
     "shell.execute_reply.started": "2021-08-01T04:22:36.408182Z"
    },
    "papermill": {
     "duration": 0.023935,
     "end_time": "2021-08-09T04:02:08.602836",
     "exception": false,
     "start_time": "2021-08-09T04:02:08.578901",
     "status": "completed"
    },
    "tags": []
   },
   "outputs": [
    {
     "data": {
      "text/plain": [
       "(tensor([1254.5287,  229.4641, 1762.5942,  428.4822], device='cuda:0',\n",
       "        grad_fn=<SelectBackward>),\n",
       " 12,\n",
       " 0.7451314330101013)"
      ]
     },
     "execution_count": 10,
     "metadata": {},
     "output_type": "execute_result"
    }
   ],
   "source": [
    "boxes[0], labels[0].item(), scores[0].item()"
   ]
  },
  {
   "cell_type": "code",
   "execution_count": 11,
   "id": "d9925a0c",
   "metadata": {
    "execution": {
     "iopub.execute_input": "2021-08-09T04:02:08.657048Z",
     "iopub.status.busy": "2021-08-09T04:02:08.656214Z",
     "iopub.status.idle": "2021-08-09T04:02:09.495674Z",
     "shell.execute_reply": "2021-08-09T04:02:09.496168Z",
     "shell.execute_reply.started": "2021-08-01T04:22:39.124792Z"
    },
    "papermill": {
     "duration": 0.876922,
     "end_time": "2021-08-09T04:02:09.496332",
     "exception": false,
     "start_time": "2021-08-09T04:02:08.619410",
     "status": "completed"
    },
    "tags": []
   },
   "outputs": [
    {
     "data": {
      "text/plain": [
       "<matplotlib.image.AxesImage at 0x7f3715b168d0>"
      ]
     },
     "execution_count": 11,
     "metadata": {},
     "output_type": "execute_result"
    },
    {
     "data": {
      "image/png": "[encoded data removed]",
      "text/plain": [
       "<Figure size 432x288 with 1 Axes>"
      ]
     },
     "metadata": {
      "needs_background": "light"
     },
     "output_type": "display_data"
    }
   ],
   "source": [
    "plt.pyplot.imshow(dimg,cmap='bone')"
   ]
  },
  {
   "cell_type": "code",
   "execution_count": 12,
   "id": "38e192dd",
   "metadata": {
    "execution": {
     "iopub.execute_input": "2021-08-09T04:02:09.542479Z",
     "iopub.status.busy": "2021-08-09T04:02:09.541737Z",
     "iopub.status.idle": "2021-08-09T04:02:09.544771Z",
     "shell.execute_reply": "2021-08-09T04:02:09.544241Z",
     "shell.execute_reply.started": "2021-08-01T04:25:59.376163Z"
    },
    "papermill": {
     "duration": 0.029234,
     "end_time": "2021-08-09T04:02:09.544905",
     "exception": false,
     "start_time": "2021-08-09T04:02:09.515671",
     "status": "completed"
    },
    "tags": []
   },
   "outputs": [],
   "source": [
    "submissions = pd.DataFrame(columns=['image_id', 'PredictionString'])"
   ]
  },
  {
   "cell_type": "code",
   "execution_count": 13,
   "id": "202f2b50",
   "metadata": {
    "execution": {
     "iopub.execute_input": "2021-08-09T04:02:09.614887Z",
     "iopub.status.busy": "2021-08-09T04:02:09.613904Z",
     "iopub.status.idle": "2021-08-09T04:33:32.726786Z",
     "shell.execute_reply": "2021-08-09T04:33:32.727309Z",
     "shell.execute_reply.started": "2021-08-01T04:26:01.583587Z"
    },
    "papermill": {
     "duration": 1883.150739,
     "end_time": "2021-08-09T04:33:32.727523",
     "exception": false,
     "start_time": "2021-08-09T04:02:09.576784",
     "status": "completed"
    },
    "tags": []
   },
   "outputs": [],
   "source": [
    "for filename in os.listdir(\"../input/vinbigdata-chest-xray-abnormalities-detection/test\"):\n",
    "#     print(\"../input/vinbigdata-chest-xray-abnormalities-detection/test/\"+filename)\n",
    "    image_path = \"../input/vinbigdata-chest-xray-abnormalities-detection/test/\"+filename\n",
    "    submissions.loc[len(submissions)] = [filename[:-6], \"\"]\n",
    "    ds = dicom.read_file(image_path)\n",
    "\n",
    "    img = ds.pixel_array.astype('float32')\n",
    "    dimg = ds.pixel_array.astype('float32')\n",
    "\n",
    "    if ds.PhotometricInterpretation=='MONOCHROME1':\n",
    "        img=np.amax(img)-img\n",
    "        dimg = np.amax(dimg)-dimg\n",
    "    img = img/np.max(img)\n",
    "    dimg = dimg/np.max(dimg)\n",
    "    img = transform(img)\n",
    "    img = img.to(device)\n",
    "    # model = model.to(device)\n",
    "    img.unsqueeze_(0)\n",
    "    # img = img.view(1, 3, 32, 32)\n",
    "    predictions = model(img)\n",
    "    predictions = predictions[0]\n",
    "    \n",
    "#     print(predictions)\n",
    "    for i in range(len(predictions['scores'])):\n",
    "        if (predictions['scores'][i]>0.98):\n",
    "            submissions.iat[len(submissions)-1, 1]=submissions.iat[len(submissions)-1, 1]+str(predictions['labels'][i].item()-1)+\" \"\n",
    "            submissions.iat[len(submissions)-1, 1]=submissions.iat[len(submissions)-1, 1]+str(predictions['scores'][i].item())+\" \"\n",
    "            submissions.iat[len(submissions)-1, 1]=submissions.iat[len(submissions)-1, 1]+str(predictions['boxes'][i][0].item())+\" \"\n",
    "            submissions.iat[len(submissions)-1, 1]=submissions.iat[len(submissions)-1, 1]+str(predictions['boxes'][i][1].item())+\" \"\n",
    "            submissions.iat[len(submissions)-1, 1]=submissions.iat[len(submissions)-1, 1]+str(predictions['boxes'][i][2].item())+\" \"\n",
    "            submissions.iat[len(submissions)-1, 1]=submissions.iat[len(submissions)-1, 1]+str(predictions['boxes'][i][3].item())+\" \"\n",
    "#             print(str(predictions['labels'][i].item()))\n",
    "        else:\n",
    "            break\n",
    "    if (submissions.iat[len(submissions)-1, 1]==\"\"):\n",
    "        submissions.iat[len(submissions)-1, 1]=\"14 1 0 0 1 1\""
   ]
  },
  {
   "cell_type": "code",
   "execution_count": 14,
   "id": "2f62ba42",
   "metadata": {
    "execution": {
     "iopub.execute_input": "2021-08-09T04:33:32.770251Z",
     "iopub.status.busy": "2021-08-09T04:33:32.769656Z",
     "iopub.status.idle": "2021-08-09T04:33:32.788056Z",
     "shell.execute_reply": "2021-08-09T04:33:32.787613Z"
    },
    "papermill": {
     "duration": 0.039641,
     "end_time": "2021-08-09T04:33:32.788180",
     "exception": false,
     "start_time": "2021-08-09T04:33:32.748539",
     "status": "completed"
    },
    "tags": []
   },
   "outputs": [],
   "source": [
    "submissions.to_csv(\"./submissions.csv\", index=False)"
   ]
  }
 ],
 "metadata": {
  "kernelspec": {
   "display_name": "Python 3",
   "language": "python",
   "name": "python3"
  },
  "language_info": {
   "codemirror_mode": {
    "name": "ipython",
    "version": 3
   },
   "file_extension": ".py",
   "mimetype": "text/x-python",
   "name": "python",
   "nbconvert_exporter": "python",
   "pygments_lexer": "ipython3",
   "version": "3.7.10"
  },
  "papermill": {
   "default_parameters": {},
   "duration": 1920.150204,
   "end_time": "2021-08-09T04:33:34.998207",
   "environment_variables": {},
   "exception": null,
   "input_path": "__notebook__.ipynb",
   "output_path": "__notebook__.ipynb",
   "parameters": {},
   "start_time": "2021-08-09T04:01:34.848003",
   "version": "2.3.3"
  }
 },
 "nbformat": 4,
 "nbformat_minor": 5
}
